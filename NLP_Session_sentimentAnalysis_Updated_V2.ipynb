{
  "nbformat": 4,
  "nbformat_minor": 0,
  "metadata": {
    "kernelspec": {
      "display_name": "Python 3",
      "language": "python",
      "name": "python3"
    },
    "language_info": {
      "codemirror_mode": {
        "name": "ipython",
        "version": 3
      },
      "file_extension": ".py",
      "mimetype": "text/x-python",
      "name": "python",
      "nbconvert_exporter": "python",
      "pygments_lexer": "ipython3",
      "version": "3.7.3"
    },
    "colab": {
      "name": "NLP-Session-sentimentAnalysis-Updated-V2.ipynb",
      "provenance": [],
      "toc_visible": true,
      "include_colab_link": true
    }
  },
  "cells": [
    {
      "cell_type": "markdown",
      "metadata": {
        "id": "view-in-github",
        "colab_type": "text"
      },
      "source": [
        "<a href=\"https://colab.research.google.com/github/rohitk140797k/sentimental-analysis/blob/master/NLP_Session_sentimentAnalysis_Updated_V2.ipynb\" target=\"_parent\"><img src=\"https://colab.research.google.com/assets/colab-badge.svg\" alt=\"Open In Colab\"/></a>"
      ]
    },
    {
      "cell_type": "code",
      "metadata": {
        "id": "xVg_flO4WzCk",
        "colab_type": "code",
        "colab": {}
      },
      "source": [
        "import pandas as pd"
      ],
      "execution_count": 0,
      "outputs": []
    },
    {
      "cell_type": "markdown",
      "metadata": {
        "id": "k_jByQvlWzCy",
        "colab_type": "text"
      },
      "source": [
        "# Read Data"
      ]
    },
    {
      "cell_type": "code",
      "metadata": {
        "id": "MoYPPenbWzC0",
        "colab_type": "code",
        "colab": {}
      },
      "source": [
        "\n",
        "sentiment = \\\n",
        "pd.read_csv('imdb_labelled.txt',\n",
        "                        sep='\\t', names = ['comment','label'])\n",
        "\n"
      ],
      "execution_count": 0,
      "outputs": []
    },
    {
      "cell_type": "code",
      "metadata": {
        "id": "Ai8G-8hzWzC8",
        "colab_type": "code",
        "colab": {
          "base_uri": "https://localhost:8080/",
          "height": 34
        },
        "outputId": "17623152-6ab3-470a-933b-3bc1c1b9bd0f"
      },
      "source": [
        "sentiment.shape"
      ],
      "execution_count": 4,
      "outputs": [
        {
          "output_type": "execute_result",
          "data": {
            "text/plain": [
              "(748, 2)"
            ]
          },
          "metadata": {
            "tags": []
          },
          "execution_count": 4
        }
      ]
    },
    {
      "cell_type": "code",
      "metadata": {
        "id": "5UgqN5tFWzDG",
        "colab_type": "code",
        "colab": {
          "base_uri": "https://localhost:8080/",
          "height": 287
        },
        "outputId": "761845da-574a-4d84-a614-243d1d6d9e08"
      },
      "source": [
        "sentiment.describe()"
      ],
      "execution_count": 5,
      "outputs": [
        {
          "output_type": "execute_result",
          "data": {
            "text/html": [
              "<div>\n",
              "<style scoped>\n",
              "    .dataframe tbody tr th:only-of-type {\n",
              "        vertical-align: middle;\n",
              "    }\n",
              "\n",
              "    .dataframe tbody tr th {\n",
              "        vertical-align: top;\n",
              "    }\n",
              "\n",
              "    .dataframe thead th {\n",
              "        text-align: right;\n",
              "    }\n",
              "</style>\n",
              "<table border=\"1\" class=\"dataframe\">\n",
              "  <thead>\n",
              "    <tr style=\"text-align: right;\">\n",
              "      <th></th>\n",
              "      <th>label</th>\n",
              "    </tr>\n",
              "  </thead>\n",
              "  <tbody>\n",
              "    <tr>\n",
              "      <th>count</th>\n",
              "      <td>748.000000</td>\n",
              "    </tr>\n",
              "    <tr>\n",
              "      <th>mean</th>\n",
              "      <td>0.516043</td>\n",
              "    </tr>\n",
              "    <tr>\n",
              "      <th>std</th>\n",
              "      <td>0.500077</td>\n",
              "    </tr>\n",
              "    <tr>\n",
              "      <th>min</th>\n",
              "      <td>0.000000</td>\n",
              "    </tr>\n",
              "    <tr>\n",
              "      <th>25%</th>\n",
              "      <td>0.000000</td>\n",
              "    </tr>\n",
              "    <tr>\n",
              "      <th>50%</th>\n",
              "      <td>1.000000</td>\n",
              "    </tr>\n",
              "    <tr>\n",
              "      <th>75%</th>\n",
              "      <td>1.000000</td>\n",
              "    </tr>\n",
              "    <tr>\n",
              "      <th>max</th>\n",
              "      <td>1.000000</td>\n",
              "    </tr>\n",
              "  </tbody>\n",
              "</table>\n",
              "</div>"
            ],
            "text/plain": [
              "            label\n",
              "count  748.000000\n",
              "mean     0.516043\n",
              "std      0.500077\n",
              "min      0.000000\n",
              "25%      0.000000\n",
              "50%      1.000000\n",
              "75%      1.000000\n",
              "max      1.000000"
            ]
          },
          "metadata": {
            "tags": []
          },
          "execution_count": 5
        }
      ]
    },
    {
      "cell_type": "code",
      "metadata": {
        "scrolled": true,
        "id": "edYIJ1HDWzDO",
        "colab_type": "code",
        "colab": {
          "base_uri": "https://localhost:8080/",
          "height": 197
        },
        "outputId": "145deade-4bec-4cab-fefc-b9f5f6435ff4"
      },
      "source": [
        "sentiment.head()"
      ],
      "execution_count": 6,
      "outputs": [
        {
          "output_type": "execute_result",
          "data": {
            "text/html": [
              "<div>\n",
              "<style scoped>\n",
              "    .dataframe tbody tr th:only-of-type {\n",
              "        vertical-align: middle;\n",
              "    }\n",
              "\n",
              "    .dataframe tbody tr th {\n",
              "        vertical-align: top;\n",
              "    }\n",
              "\n",
              "    .dataframe thead th {\n",
              "        text-align: right;\n",
              "    }\n",
              "</style>\n",
              "<table border=\"1\" class=\"dataframe\">\n",
              "  <thead>\n",
              "    <tr style=\"text-align: right;\">\n",
              "      <th></th>\n",
              "      <th>comment</th>\n",
              "      <th>label</th>\n",
              "    </tr>\n",
              "  </thead>\n",
              "  <tbody>\n",
              "    <tr>\n",
              "      <th>0</th>\n",
              "      <td>A very, very, very slow-moving, aimless movie ...</td>\n",
              "      <td>0</td>\n",
              "    </tr>\n",
              "    <tr>\n",
              "      <th>1</th>\n",
              "      <td>Not sure who was more lost - the flat characte...</td>\n",
              "      <td>0</td>\n",
              "    </tr>\n",
              "    <tr>\n",
              "      <th>2</th>\n",
              "      <td>Attempting artiness with black &amp; white and cle...</td>\n",
              "      <td>0</td>\n",
              "    </tr>\n",
              "    <tr>\n",
              "      <th>3</th>\n",
              "      <td>Very little music or anything to speak of.</td>\n",
              "      <td>0</td>\n",
              "    </tr>\n",
              "    <tr>\n",
              "      <th>4</th>\n",
              "      <td>The best scene in the movie was when Gerardo i...</td>\n",
              "      <td>1</td>\n",
              "    </tr>\n",
              "  </tbody>\n",
              "</table>\n",
              "</div>"
            ],
            "text/plain": [
              "                                             comment  label\n",
              "0  A very, very, very slow-moving, aimless movie ...      0\n",
              "1  Not sure who was more lost - the flat characte...      0\n",
              "2  Attempting artiness with black & white and cle...      0\n",
              "3       Very little music or anything to speak of.        0\n",
              "4  The best scene in the movie was when Gerardo i...      1"
            ]
          },
          "metadata": {
            "tags": []
          },
          "execution_count": 6
        }
      ]
    },
    {
      "cell_type": "code",
      "metadata": {
        "scrolled": true,
        "id": "mLzOCzq7WzDW",
        "colab_type": "code",
        "colab": {
          "base_uri": "https://localhost:8080/",
          "height": 34
        },
        "outputId": "3864bb19-f578-49f1-f1ba-3a5fb8774a18"
      },
      "source": [
        "sentiment.comment[4]"
      ],
      "execution_count": 7,
      "outputs": [
        {
          "output_type": "execute_result",
          "data": {
            "text/plain": [
              "'The best scene in the movie was when Gerardo is trying to find a song that keeps running through his head.  '"
            ]
          },
          "metadata": {
            "tags": []
          },
          "execution_count": 7
        }
      ]
    },
    {
      "cell_type": "code",
      "metadata": {
        "scrolled": true,
        "id": "QskUhQ87WzDf",
        "colab_type": "code",
        "colab": {
          "base_uri": "https://localhost:8080/",
          "height": 34
        },
        "outputId": "17b60750-c5d5-4d0b-8959-f161478444b3"
      },
      "source": [
        "sentiment.shape"
      ],
      "execution_count": 8,
      "outputs": [
        {
          "output_type": "execute_result",
          "data": {
            "text/plain": [
              "(748, 2)"
            ]
          },
          "metadata": {
            "tags": []
          },
          "execution_count": 8
        }
      ]
    },
    {
      "cell_type": "code",
      "metadata": {
        "id": "5dgSeQRtWzDr",
        "colab_type": "code",
        "colab": {
          "base_uri": "https://localhost:8080/",
          "height": 70
        },
        "outputId": "f4d8ae06-1eed-4359-eaeb-17ec514904fa"
      },
      "source": [
        "sentiment.isnull().sum()"
      ],
      "execution_count": 9,
      "outputs": [
        {
          "output_type": "execute_result",
          "data": {
            "text/plain": [
              "comment    0\n",
              "label      0\n",
              "dtype: int64"
            ]
          },
          "metadata": {
            "tags": []
          },
          "execution_count": 9
        }
      ]
    },
    {
      "cell_type": "code",
      "metadata": {
        "id": "jISuUhhbWzDz",
        "colab_type": "code",
        "colab": {}
      },
      "source": [
        "# We have 748 comments"
      ],
      "execution_count": 0,
      "outputs": []
    },
    {
      "cell_type": "markdown",
      "metadata": {
        "id": "NcQhlE7gWzD7",
        "colab_type": "text"
      },
      "source": [
        "# Visualize Data"
      ]
    },
    {
      "cell_type": "code",
      "metadata": {
        "scrolled": true,
        "id": "5mcv2sSfWzD9",
        "colab_type": "code",
        "colab": {
          "base_uri": "https://localhost:8080/",
          "height": 197
        },
        "outputId": "e6b0a0b0-a329-4701-cba0-349abd56bc79"
      },
      "source": [
        "sentiment.head()"
      ],
      "execution_count": 11,
      "outputs": [
        {
          "output_type": "execute_result",
          "data": {
            "text/html": [
              "<div>\n",
              "<style scoped>\n",
              "    .dataframe tbody tr th:only-of-type {\n",
              "        vertical-align: middle;\n",
              "    }\n",
              "\n",
              "    .dataframe tbody tr th {\n",
              "        vertical-align: top;\n",
              "    }\n",
              "\n",
              "    .dataframe thead th {\n",
              "        text-align: right;\n",
              "    }\n",
              "</style>\n",
              "<table border=\"1\" class=\"dataframe\">\n",
              "  <thead>\n",
              "    <tr style=\"text-align: right;\">\n",
              "      <th></th>\n",
              "      <th>comment</th>\n",
              "      <th>label</th>\n",
              "    </tr>\n",
              "  </thead>\n",
              "  <tbody>\n",
              "    <tr>\n",
              "      <th>0</th>\n",
              "      <td>A very, very, very slow-moving, aimless movie ...</td>\n",
              "      <td>0</td>\n",
              "    </tr>\n",
              "    <tr>\n",
              "      <th>1</th>\n",
              "      <td>Not sure who was more lost - the flat characte...</td>\n",
              "      <td>0</td>\n",
              "    </tr>\n",
              "    <tr>\n",
              "      <th>2</th>\n",
              "      <td>Attempting artiness with black &amp; white and cle...</td>\n",
              "      <td>0</td>\n",
              "    </tr>\n",
              "    <tr>\n",
              "      <th>3</th>\n",
              "      <td>Very little music or anything to speak of.</td>\n",
              "      <td>0</td>\n",
              "    </tr>\n",
              "    <tr>\n",
              "      <th>4</th>\n",
              "      <td>The best scene in the movie was when Gerardo i...</td>\n",
              "      <td>1</td>\n",
              "    </tr>\n",
              "  </tbody>\n",
              "</table>\n",
              "</div>"
            ],
            "text/plain": [
              "                                             comment  label\n",
              "0  A very, very, very slow-moving, aimless movie ...      0\n",
              "1  Not sure who was more lost - the flat characte...      0\n",
              "2  Attempting artiness with black & white and cle...      0\n",
              "3       Very little music or anything to speak of.        0\n",
              "4  The best scene in the movie was when Gerardo i...      1"
            ]
          },
          "metadata": {
            "tags": []
          },
          "execution_count": 11
        }
      ]
    },
    {
      "cell_type": "code",
      "metadata": {
        "id": "8xdFqrX0WzEE",
        "colab_type": "code",
        "colab": {
          "base_uri": "https://localhost:8080/",
          "height": 34
        },
        "outputId": "16e5dcc7-9b65-458d-cc65-691a741a702b"
      },
      "source": [
        "sentiment.iloc[0,0]"
      ],
      "execution_count": 12,
      "outputs": [
        {
          "output_type": "execute_result",
          "data": {
            "text/plain": [
              "'A very, very, very slow-moving, aimless movie about a distressed, drifting young man.  '"
            ]
          },
          "metadata": {
            "tags": []
          },
          "execution_count": 12
        }
      ]
    },
    {
      "cell_type": "code",
      "metadata": {
        "id": "l1KkJReDWzEO",
        "colab_type": "code",
        "colab": {
          "base_uri": "https://localhost:8080/",
          "height": 34
        },
        "outputId": "ae06a485-30df-4378-cd47-acd997b3afa3"
      },
      "source": [
        "sentiment.iloc[0,1]"
      ],
      "execution_count": 13,
      "outputs": [
        {
          "output_type": "execute_result",
          "data": {
            "text/plain": [
              "0"
            ]
          },
          "metadata": {
            "tags": []
          },
          "execution_count": 13
        }
      ]
    },
    {
      "cell_type": "code",
      "metadata": {
        "scrolled": true,
        "id": "WvRxc2kKWzEW",
        "colab_type": "code",
        "colab": {
          "base_uri": "https://localhost:8080/",
          "height": 34
        },
        "outputId": "ae49e1ba-dc57-4a61-d3fd-bf598dd290ef"
      },
      "source": [
        "sentiment.shape"
      ],
      "execution_count": 14,
      "outputs": [
        {
          "output_type": "execute_result",
          "data": {
            "text/plain": [
              "(748, 2)"
            ]
          },
          "metadata": {
            "tags": []
          },
          "execution_count": 14
        }
      ]
    },
    {
      "cell_type": "code",
      "metadata": {
        "scrolled": false,
        "id": "O8S_KsX0WzEd",
        "colab_type": "code",
        "colab": {
          "base_uri": "https://localhost:8080/",
          "height": 377
        },
        "outputId": "36b33062-1af2-4364-86d1-141c34cb94f3"
      },
      "source": [
        "sentiment.describe(include='all')"
      ],
      "execution_count": 15,
      "outputs": [
        {
          "output_type": "execute_result",
          "data": {
            "text/html": [
              "<div>\n",
              "<style scoped>\n",
              "    .dataframe tbody tr th:only-of-type {\n",
              "        vertical-align: middle;\n",
              "    }\n",
              "\n",
              "    .dataframe tbody tr th {\n",
              "        vertical-align: top;\n",
              "    }\n",
              "\n",
              "    .dataframe thead th {\n",
              "        text-align: right;\n",
              "    }\n",
              "</style>\n",
              "<table border=\"1\" class=\"dataframe\">\n",
              "  <thead>\n",
              "    <tr style=\"text-align: right;\">\n",
              "      <th></th>\n",
              "      <th>comment</th>\n",
              "      <th>label</th>\n",
              "    </tr>\n",
              "  </thead>\n",
              "  <tbody>\n",
              "    <tr>\n",
              "      <th>count</th>\n",
              "      <td>748</td>\n",
              "      <td>748.000000</td>\n",
              "    </tr>\n",
              "    <tr>\n",
              "      <th>unique</th>\n",
              "      <td>745</td>\n",
              "      <td>NaN</td>\n",
              "    </tr>\n",
              "    <tr>\n",
              "      <th>top</th>\n",
              "      <td>10/10</td>\n",
              "      <td>NaN</td>\n",
              "    </tr>\n",
              "    <tr>\n",
              "      <th>freq</th>\n",
              "      <td>2</td>\n",
              "      <td>NaN</td>\n",
              "    </tr>\n",
              "    <tr>\n",
              "      <th>mean</th>\n",
              "      <td>NaN</td>\n",
              "      <td>0.516043</td>\n",
              "    </tr>\n",
              "    <tr>\n",
              "      <th>std</th>\n",
              "      <td>NaN</td>\n",
              "      <td>0.500077</td>\n",
              "    </tr>\n",
              "    <tr>\n",
              "      <th>min</th>\n",
              "      <td>NaN</td>\n",
              "      <td>0.000000</td>\n",
              "    </tr>\n",
              "    <tr>\n",
              "      <th>25%</th>\n",
              "      <td>NaN</td>\n",
              "      <td>0.000000</td>\n",
              "    </tr>\n",
              "    <tr>\n",
              "      <th>50%</th>\n",
              "      <td>NaN</td>\n",
              "      <td>1.000000</td>\n",
              "    </tr>\n",
              "    <tr>\n",
              "      <th>75%</th>\n",
              "      <td>NaN</td>\n",
              "      <td>1.000000</td>\n",
              "    </tr>\n",
              "    <tr>\n",
              "      <th>max</th>\n",
              "      <td>NaN</td>\n",
              "      <td>1.000000</td>\n",
              "    </tr>\n",
              "  </tbody>\n",
              "</table>\n",
              "</div>"
            ],
            "text/plain": [
              "        comment       label\n",
              "count       748  748.000000\n",
              "unique      745         NaN\n",
              "top     10/10           NaN\n",
              "freq          2         NaN\n",
              "mean        NaN    0.516043\n",
              "std         NaN    0.500077\n",
              "min         NaN    0.000000\n",
              "25%         NaN    0.000000\n",
              "50%         NaN    1.000000\n",
              "75%         NaN    1.000000\n",
              "max         NaN    1.000000"
            ]
          },
          "metadata": {
            "tags": []
          },
          "execution_count": 15
        }
      ]
    },
    {
      "cell_type": "code",
      "metadata": {
        "scrolled": false,
        "id": "QjpuuHD2WzEj",
        "colab_type": "code",
        "colab": {
          "base_uri": "https://localhost:8080/",
          "height": 34
        },
        "outputId": "cb758908-c232-4e1c-a90c-2b6f821f60ab"
      },
      "source": [
        "import numpy as np\n",
        "np.sum((sentiment['label']))"
      ],
      "execution_count": 16,
      "outputs": [
        {
          "output_type": "execute_result",
          "data": {
            "text/plain": [
              "386"
            ]
          },
          "metadata": {
            "tags": []
          },
          "execution_count": 16
        }
      ]
    },
    {
      "cell_type": "code",
      "metadata": {
        "scrolled": true,
        "id": "nvuhoVERWzEs",
        "colab_type": "code",
        "colab": {
          "base_uri": "https://localhost:8080/",
          "height": 176
        },
        "outputId": "852765d1-8428-42ff-85ed-863fc255e222"
      },
      "source": [
        "sentiment.info()"
      ],
      "execution_count": 17,
      "outputs": [
        {
          "output_type": "stream",
          "text": [
            "<class 'pandas.core.frame.DataFrame'>\n",
            "RangeIndex: 748 entries, 0 to 747\n",
            "Data columns (total 2 columns):\n",
            " #   Column   Non-Null Count  Dtype \n",
            "---  ------   --------------  ----- \n",
            " 0   comment  748 non-null    object\n",
            " 1   label    748 non-null    int64 \n",
            "dtypes: int64(1), object(1)\n",
            "memory usage: 11.8+ KB\n"
          ],
          "name": "stdout"
        }
      ]
    },
    {
      "cell_type": "code",
      "metadata": {
        "scrolled": true,
        "id": "xcEKD0FmWzEz",
        "colab_type": "code",
        "colab": {
          "base_uri": "https://localhost:8080/",
          "height": 167
        },
        "outputId": "1df86ef5-a5a2-401e-d7d9-1d288d4dd4c5"
      },
      "source": [
        "sentiment.groupby('label').describe()"
      ],
      "execution_count": 18,
      "outputs": [
        {
          "output_type": "execute_result",
          "data": {
            "text/html": [
              "<div>\n",
              "<style scoped>\n",
              "    .dataframe tbody tr th:only-of-type {\n",
              "        vertical-align: middle;\n",
              "    }\n",
              "\n",
              "    .dataframe tbody tr th {\n",
              "        vertical-align: top;\n",
              "    }\n",
              "\n",
              "    .dataframe thead tr th {\n",
              "        text-align: left;\n",
              "    }\n",
              "\n",
              "    .dataframe thead tr:last-of-type th {\n",
              "        text-align: right;\n",
              "    }\n",
              "</style>\n",
              "<table border=\"1\" class=\"dataframe\">\n",
              "  <thead>\n",
              "    <tr>\n",
              "      <th></th>\n",
              "      <th colspan=\"4\" halign=\"left\">comment</th>\n",
              "    </tr>\n",
              "    <tr>\n",
              "      <th></th>\n",
              "      <th>count</th>\n",
              "      <th>unique</th>\n",
              "      <th>top</th>\n",
              "      <th>freq</th>\n",
              "    </tr>\n",
              "    <tr>\n",
              "      <th>label</th>\n",
              "      <th></th>\n",
              "      <th></th>\n",
              "      <th></th>\n",
              "      <th></th>\n",
              "    </tr>\n",
              "  </thead>\n",
              "  <tbody>\n",
              "    <tr>\n",
              "      <th>0</th>\n",
              "      <td>362</td>\n",
              "      <td>361</td>\n",
              "      <td>Not recommended.</td>\n",
              "      <td>2</td>\n",
              "    </tr>\n",
              "    <tr>\n",
              "      <th>1</th>\n",
              "      <td>386</td>\n",
              "      <td>384</td>\n",
              "      <td>10/10</td>\n",
              "      <td>2</td>\n",
              "    </tr>\n",
              "  </tbody>\n",
              "</table>\n",
              "</div>"
            ],
            "text/plain": [
              "      comment                                \n",
              "        count unique                 top freq\n",
              "label                                        \n",
              "0         362    361  Not recommended.      2\n",
              "1         386    384             10/10      2"
            ]
          },
          "metadata": {
            "tags": []
          },
          "execution_count": 18
        }
      ]
    },
    {
      "cell_type": "code",
      "metadata": {
        "id": "rdWonK1nWzE6",
        "colab_type": "code",
        "colab": {
          "base_uri": "https://localhost:8080/",
          "height": 70
        },
        "outputId": "84d854c7-0d99-4c37-aa75-3f40d9e44f63"
      },
      "source": [
        "sentiment.isnull().sum()"
      ],
      "execution_count": 19,
      "outputs": [
        {
          "output_type": "execute_result",
          "data": {
            "text/plain": [
              "comment    0\n",
              "label      0\n",
              "dtype: int64"
            ]
          },
          "metadata": {
            "tags": []
          },
          "execution_count": 19
        }
      ]
    },
    {
      "cell_type": "code",
      "metadata": {
        "id": "6Ma8EJNYWzFD",
        "colab_type": "code",
        "colab": {}
      },
      "source": [
        "%matplotlib inline"
      ],
      "execution_count": 0,
      "outputs": []
    },
    {
      "cell_type": "code",
      "metadata": {
        "scrolled": true,
        "id": "mFEpYmWVWzFK",
        "colab_type": "code",
        "colab": {
          "base_uri": "https://localhost:8080/",
          "height": 294
        },
        "outputId": "6db093cf-5024-403f-8f20-f5c1751baca2"
      },
      "source": [
        "sentiment.groupby('label').size().plot(kind = 'bar')"
      ],
      "execution_count": 23,
      "outputs": [
        {
          "output_type": "execute_result",
          "data": {
            "text/plain": [
              "<matplotlib.axes._subplots.AxesSubplot at 0x7f2781f9e320>"
            ]
          },
          "metadata": {
            "tags": []
          },
          "execution_count": 23
        },
        {
          "output_type": "display_data",
          "data": {
            "image/png": "[encoded data removed]",
            "text/plain": [
              "<Figure size 432x288 with 1 Axes>"
            ]
          },
          "metadata": {
            "tags": [],
            "needs_background": "light"
          }
        }
      ]
    },
    {
      "cell_type": "code",
      "metadata": {
        "id": "SAY3peIMWzFS",
        "colab_type": "code",
        "colab": {}
      },
      "source": [
        "#verify length of messages and also add it as a column\n",
        "sentiment['length']= sentiment['comment'].apply(len)"
      ],
      "execution_count": 0,
      "outputs": []
    },
    {
      "cell_type": "code",
      "metadata": {
        "scrolled": false,
        "id": "PGXh5FopWzFY",
        "colab_type": "code",
        "colab": {
          "base_uri": "https://localhost:8080/",
          "height": 197
        },
        "outputId": "1e5d41be-589c-4bad-9814-d6e42e141ede"
      },
      "source": [
        "sentiment.head()"
      ],
      "execution_count": 26,
      "outputs": [
        {
          "output_type": "execute_result",
          "data": {
            "text/html": [
              "<div>\n",
              "<style scoped>\n",
              "    .dataframe tbody tr th:only-of-type {\n",
              "        vertical-align: middle;\n",
              "    }\n",
              "\n",
              "    .dataframe tbody tr th {\n",
              "        vertical-align: top;\n",
              "    }\n",
              "\n",
              "    .dataframe thead th {\n",
              "        text-align: right;\n",
              "    }\n",
              "</style>\n",
              "<table border=\"1\" class=\"dataframe\">\n",
              "  <thead>\n",
              "    <tr style=\"text-align: right;\">\n",
              "      <th></th>\n",
              "      <th>comment</th>\n",
              "      <th>label</th>\n",
              "      <th>length</th>\n",
              "    </tr>\n",
              "  </thead>\n",
              "  <tbody>\n",
              "    <tr>\n",
              "      <th>0</th>\n",
              "      <td>A very, very, very slow-moving, aimless movie ...</td>\n",
              "      <td>0</td>\n",
              "      <td>87</td>\n",
              "    </tr>\n",
              "    <tr>\n",
              "      <th>1</th>\n",
              "      <td>Not sure who was more lost - the flat characte...</td>\n",
              "      <td>0</td>\n",
              "      <td>99</td>\n",
              "    </tr>\n",
              "    <tr>\n",
              "      <th>2</th>\n",
              "      <td>Attempting artiness with black &amp; white and cle...</td>\n",
              "      <td>0</td>\n",
              "      <td>188</td>\n",
              "    </tr>\n",
              "    <tr>\n",
              "      <th>3</th>\n",
              "      <td>Very little music or anything to speak of.</td>\n",
              "      <td>0</td>\n",
              "      <td>44</td>\n",
              "    </tr>\n",
              "    <tr>\n",
              "      <th>4</th>\n",
              "      <td>The best scene in the movie was when Gerardo i...</td>\n",
              "      <td>1</td>\n",
              "      <td>108</td>\n",
              "    </tr>\n",
              "  </tbody>\n",
              "</table>\n",
              "</div>"
            ],
            "text/plain": [
              "                                             comment  label  length\n",
              "0  A very, very, very slow-moving, aimless movie ...      0      87\n",
              "1  Not sure who was more lost - the flat characte...      0      99\n",
              "2  Attempting artiness with black & white and cle...      0     188\n",
              "3       Very little music or anything to speak of.        0      44\n",
              "4  The best scene in the movie was when Gerardo i...      1     108"
            ]
          },
          "metadata": {
            "tags": []
          },
          "execution_count": 26
        }
      ]
    },
    {
      "cell_type": "code",
      "metadata": {
        "scrolled": false,
        "id": "BjgAam11WzFf",
        "colab_type": "code",
        "colab": {
          "base_uri": "https://localhost:8080/",
          "height": 406
        },
        "outputId": "e5348a04-56cf-4eeb-c8f6-ce51faa0b3a3"
      },
      "source": [
        "sentiment[sentiment['length']>100]"
      ],
      "execution_count": 27,
      "outputs": [
        {
          "output_type": "execute_result",
          "data": {
            "text/html": [
              "<div>\n",
              "<style scoped>\n",
              "    .dataframe tbody tr th:only-of-type {\n",
              "        vertical-align: middle;\n",
              "    }\n",
              "\n",
              "    .dataframe tbody tr th {\n",
              "        vertical-align: top;\n",
              "    }\n",
              "\n",
              "    .dataframe thead th {\n",
              "        text-align: right;\n",
              "    }\n",
              "</style>\n",
              "<table border=\"1\" class=\"dataframe\">\n",
              "  <thead>\n",
              "    <tr style=\"text-align: right;\">\n",
              "      <th></th>\n",
              "      <th>comment</th>\n",
              "      <th>label</th>\n",
              "      <th>length</th>\n",
              "    </tr>\n",
              "  </thead>\n",
              "  <tbody>\n",
              "    <tr>\n",
              "      <th>2</th>\n",
              "      <td>Attempting artiness with black &amp; white and cle...</td>\n",
              "      <td>0</td>\n",
              "      <td>188</td>\n",
              "    </tr>\n",
              "    <tr>\n",
              "      <th>4</th>\n",
              "      <td>The best scene in the movie was when Gerardo i...</td>\n",
              "      <td>1</td>\n",
              "      <td>108</td>\n",
              "    </tr>\n",
              "    <tr>\n",
              "      <th>5</th>\n",
              "      <td>The rest of the movie lacks art, charm, meanin...</td>\n",
              "      <td>0</td>\n",
              "      <td>114</td>\n",
              "    </tr>\n",
              "    <tr>\n",
              "      <th>16</th>\n",
              "      <td>This review is long overdue, since I consider ...</td>\n",
              "      <td>1</td>\n",
              "      <td>111</td>\n",
              "    </tr>\n",
              "    <tr>\n",
              "      <th>17</th>\n",
              "      <td>I'll put this gem up against any movie in term...</td>\n",
              "      <td>1</td>\n",
              "      <td>161</td>\n",
              "    </tr>\n",
              "    <tr>\n",
              "      <th>...</th>\n",
              "      <td>...</td>\n",
              "      <td>...</td>\n",
              "      <td>...</td>\n",
              "    </tr>\n",
              "    <tr>\n",
              "      <th>722</th>\n",
              "      <td>If you haven't choked in your own vomit by the...</td>\n",
              "      <td>0</td>\n",
              "      <td>166</td>\n",
              "    </tr>\n",
              "    <tr>\n",
              "      <th>723</th>\n",
              "      <td>Still, it makes up for all of this with a supe...</td>\n",
              "      <td>1</td>\n",
              "      <td>125</td>\n",
              "    </tr>\n",
              "    <tr>\n",
              "      <th>726</th>\n",
              "      <td>Then I watched it again two Sundays ago (March...</td>\n",
              "      <td>1</td>\n",
              "      <td>131</td>\n",
              "    </tr>\n",
              "    <tr>\n",
              "      <th>736</th>\n",
              "      <td>It was a riot to see Hugo Weaving play a sex-o...</td>\n",
              "      <td>1</td>\n",
              "      <td>165</td>\n",
              "    </tr>\n",
              "    <tr>\n",
              "      <th>738</th>\n",
              "      <td>The opening sequence of this gem is a classic,...</td>\n",
              "      <td>1</td>\n",
              "      <td>110</td>\n",
              "    </tr>\n",
              "  </tbody>\n",
              "</table>\n",
              "<p>241 rows × 3 columns</p>\n",
              "</div>"
            ],
            "text/plain": [
              "                                               comment  label  length\n",
              "2    Attempting artiness with black & white and cle...      0     188\n",
              "4    The best scene in the movie was when Gerardo i...      1     108\n",
              "5    The rest of the movie lacks art, charm, meanin...      0     114\n",
              "16   This review is long overdue, since I consider ...      1     111\n",
              "17   I'll put this gem up against any movie in term...      1     161\n",
              "..                                                 ...    ...     ...\n",
              "722  If you haven't choked in your own vomit by the...      0     166\n",
              "723  Still, it makes up for all of this with a supe...      1     125\n",
              "726  Then I watched it again two Sundays ago (March...      1     131\n",
              "736  It was a riot to see Hugo Weaving play a sex-o...      1     165\n",
              "738  The opening sequence of this gem is a classic,...      1     110\n",
              "\n",
              "[241 rows x 3 columns]"
            ]
          },
          "metadata": {
            "tags": []
          },
          "execution_count": 27
        }
      ]
    },
    {
      "cell_type": "code",
      "metadata": {
        "id": "x7AKWvu-WzFl",
        "colab_type": "code",
        "colab": {},
        "outputId": "b026ce92-7e9e-4608-d0fd-b3bfcf97f7c8"
      },
      "source": [
        "sentiment[sentiment['length']>2000]"
      ],
      "execution_count": 0,
      "outputs": [
        {
          "output_type": "execute_result",
          "data": {
            "text/html": [
              "<div>\n",
              "<style scoped>\n",
              "    .dataframe tbody tr th:only-of-type {\n",
              "        vertical-align: middle;\n",
              "    }\n",
              "\n",
              "    .dataframe tbody tr th {\n",
              "        vertical-align: top;\n",
              "    }\n",
              "\n",
              "    .dataframe thead th {\n",
              "        text-align: right;\n",
              "    }\n",
              "</style>\n",
              "<table border=\"1\" class=\"dataframe\">\n",
              "  <thead>\n",
              "    <tr style=\"text-align: right;\">\n",
              "      <th></th>\n",
              "      <th>comment</th>\n",
              "      <th>label</th>\n",
              "      <th>length</th>\n",
              "    </tr>\n",
              "  </thead>\n",
              "  <tbody>\n",
              "    <tr>\n",
              "      <th>19</th>\n",
              "      <td>The structure of this film is easily the most...</td>\n",
              "      <td>0</td>\n",
              "      <td>4779</td>\n",
              "    </tr>\n",
              "    <tr>\n",
              "      <th>136</th>\n",
              "      <td>In fact, it's hard to remember that the part ...</td>\n",
              "      <td>0</td>\n",
              "      <td>7944</td>\n",
              "    </tr>\n",
              "    <tr>\n",
              "      <th>646</th>\n",
              "      <td>With great sound effects, and impressive spec...</td>\n",
              "      <td>1</td>\n",
              "      <td>4488</td>\n",
              "    </tr>\n",
              "  </tbody>\n",
              "</table>\n",
              "</div>"
            ],
            "text/plain": [
              "                                               comment  label  length\n",
              "19    The structure of this film is easily the most...      0    4779\n",
              "136   In fact, it's hard to remember that the part ...      0    7944\n",
              "646   With great sound effects, and impressive spec...      1    4488"
            ]
          },
          "metadata": {
            "tags": []
          },
          "execution_count": 24
        }
      ]
    },
    {
      "cell_type": "code",
      "metadata": {
        "id": "E_jQwnW4WzFw",
        "colab_type": "code",
        "colab": {}
      },
      "source": [
        "#start text processing with vectorizer\n",
        "from sklearn.feature_extraction.text import CountVectorizer\n",
        "vectorizer = CountVectorizer()"
      ],
      "execution_count": 0,
      "outputs": []
    },
    {
      "cell_type": "code",
      "metadata": {
        "scrolled": true,
        "id": "XSb5ZGfiWzF7",
        "colab_type": "code",
        "colab": {
          "base_uri": "https://localhost:8080/",
          "height": 34
        },
        "outputId": "2e745047-5535-42ef-d490-eb4978a510d6"
      },
      "source": [
        "import string\n",
        "string.punctuation"
      ],
      "execution_count": 29,
      "outputs": [
        {
          "output_type": "execute_result",
          "data": {
            "text/plain": [
              "'!\"#$%&\\'()*+,-./:;<=>?@[\\\\]^_`{|}~'"
            ]
          },
          "metadata": {
            "tags": []
          },
          "execution_count": 29
        }
      ]
    },
    {
      "cell_type": "code",
      "metadata": {
        "id": "zEzXwOnhWzGD",
        "colab_type": "code",
        "colab": {
          "base_uri": "https://localhost:8080/",
          "height": 70
        },
        "outputId": "5fddd805-a0fe-464b-923d-4859accdd85b"
      },
      "source": [
        "from nltk.corpus import stopwords\n",
        "import nltk\n",
        "nltk.download('stopwords')\n",
        "  "
      ],
      "execution_count": 34,
      "outputs": [
        {
          "output_type": "stream",
          "text": [
            "[nltk_data] Downloading package stopwords to /root/nltk_data...\n",
            "[nltk_data]   Unzipping corpora/stopwords.zip.\n"
          ],
          "name": "stdout"
        },
        {
          "output_type": "execute_result",
          "data": {
            "text/plain": [
              "True"
            ]
          },
          "metadata": {
            "tags": []
          },
          "execution_count": 34
        }
      ]
    },
    {
      "cell_type": "code",
      "metadata": {
        "id": "mOmjtAr7WzGJ",
        "colab_type": "code",
        "colab": {}
      },
      "source": [
        "#define function to clean stopwords\n",
        "def cleanup_text(msg):\n",
        "    no_punctuation = [char for char in msg if char not in string.punctuation]\n",
        "    no_punctuation_msg = ''.join(no_punctuation)\n",
        "    return [word for word in no_punctuation_msg.split()\n",
        "            if word.lower() not in stopwords.words('english') ]"
      ],
      "execution_count": 0,
      "outputs": []
    },
    {
      "cell_type": "code",
      "metadata": {
        "id": "qrJ3hvD-WzGP",
        "colab_type": "code",
        "colab": {}
      },
      "source": [
        "checkText = \"Catch me if you can is a great movie! with nice thrill and comedy. Leo has done a great job!!\""
      ],
      "execution_count": 0,
      "outputs": []
    },
    {
      "cell_type": "code",
      "metadata": {
        "id": "Dr7jq2sAWzGV",
        "colab_type": "code",
        "colab": {
          "base_uri": "https://localhost:8080/",
          "height": 194
        },
        "outputId": "fdebb817-92d7-4f7d-f6a4-b9a96eaa2ba6"
      },
      "source": [
        "cleanup_text(checkText)"
      ],
      "execution_count": 37,
      "outputs": [
        {
          "output_type": "execute_result",
          "data": {
            "text/plain": [
              "['Catch',\n",
              " 'great',\n",
              " 'movie',\n",
              " 'nice',\n",
              " 'thrill',\n",
              " 'comedy',\n",
              " 'Leo',\n",
              " 'done',\n",
              " 'great',\n",
              " 'job']"
            ]
          },
          "metadata": {
            "tags": []
          },
          "execution_count": 37
        }
      ]
    },
    {
      "cell_type": "code",
      "metadata": {
        "id": "U027DYqwWzGd",
        "colab_type": "code",
        "colab": {}
      },
      "source": [
        "import string\n",
        "from nltk.corpus import stopwords\n",
        "bagOfWords = CountVectorizer(analyzer = cleanup_text).fit(sentiment['comment'])"
      ],
      "execution_count": 0,
      "outputs": []
    },
    {
      "cell_type": "code",
      "metadata": {
        "scrolled": true,
        "id": "ijQO0rfsWzGj",
        "colab_type": "code",
        "colab": {
          "base_uri": "https://localhost:8080/",
          "height": 141
        },
        "outputId": "c50c4ca2-9a75-4a7f-fb09-a39991a79a88"
      },
      "source": [
        "bagOfWords"
      ],
      "execution_count": 39,
      "outputs": [
        {
          "output_type": "execute_result",
          "data": {
            "text/plain": [
              "CountVectorizer(analyzer=<function cleanup_text at 0x7f277108dc80>,\n",
              "                binary=False, decode_error='strict',\n",
              "                dtype=<class 'numpy.int64'>, encoding='utf-8', input='content',\n",
              "                lowercase=True, max_df=1.0, max_features=None, min_df=1,\n",
              "                ngram_range=(1, 1), preprocessor=None, stop_words=None,\n",
              "                strip_accents=None, token_pattern='(?u)\\\\b\\\\w\\\\w+\\\\b',\n",
              "                tokenizer=None, vocabulary=None)"
            ]
          },
          "metadata": {
            "tags": []
          },
          "execution_count": 39
        }
      ]
    },
    {
      "cell_type": "code",
      "metadata": {
        "id": "gJcszuSgWzGp",
        "colab_type": "code",
        "colab": {}
      },
      "source": [
        "#apply transform method for bag of owrds\n",
        "comment_bagOfWords = bagOfWords.transform(sentiment['comment'])"
      ],
      "execution_count": 0,
      "outputs": []
    },
    {
      "cell_type": "code",
      "metadata": {
        "id": "ODlU8H99WzGv",
        "colab_type": "code",
        "colab": {
          "base_uri": "https://localhost:8080/",
          "height": 34
        },
        "outputId": "f8e686ac-fa85-43fb-9ec4-690b4c186406"
      },
      "source": [
        "comment_bagOfWords.shape"
      ],
      "execution_count": 41,
      "outputs": [
        {
          "output_type": "execute_result",
          "data": {
            "text/plain": [
              "(748, 3259)"
            ]
          },
          "metadata": {
            "tags": []
          },
          "execution_count": 41
        }
      ]
    },
    {
      "cell_type": "code",
      "metadata": {
        "id": "o9XZ0_QGWzG1",
        "colab_type": "code",
        "colab": {
          "base_uri": "https://localhost:8080/",
          "height": 34
        },
        "outputId": "5ffe7131-f122-4039-b82c-e31be2f12162"
      },
      "source": [
        "len(bagOfWords.vocabulary_)"
      ],
      "execution_count": 42,
      "outputs": [
        {
          "output_type": "execute_result",
          "data": {
            "text/plain": [
              "3259"
            ]
          },
          "metadata": {
            "tags": []
          },
          "execution_count": 42
        }
      ]
    },
    {
      "cell_type": "code",
      "metadata": {
        "scrolled": false,
        "id": "KYrpuTNQWzG6",
        "colab_type": "code",
        "colab": {
          "base_uri": "https://localhost:8080/",
          "height": 54
        },
        "outputId": "e092547a-735a-4c73-f092-e64adce874d6"
      },
      "source": [
        "print(bagOfWords.vocabulary_)"
      ],
      "execution_count": 43,
      "outputs": [
        {
          "output_type": "stream",
          "text": [
            "{'slowmoving': 2723, 'aimless': 808, 'movie': 2153, 'distressed': 1350, 'drifting': 1377, 'young': 3250, 'man': 2066, 'sure': 2862, 'lost': 2037, 'flat': 1608, 'characters': 1068, 'audience': 889, 'nearly': 2183, 'half': 1741, 'walked': 3143, 'Attempting': 87, 'artiness': 866, 'black': 956, 'white': 3188, 'clever': 1111, 'camera': 1021, 'angles': 837, 'disappointed': 1334, 'became': 931, 'even': 1468, 'ridiculous': 2545, 'acting': 774, 'poor': 2368, 'plot': 2353, 'lines': 2013, 'almost': 817, 'nonexistent': 2206, 'little': 2017, 'music': 2166, 'anything': 848, 'speak': 2760, 'best': 944, 'scene': 2594, 'Gerardo': 300, 'trying': 3020, 'find': 1593, 'song': 2746, 'keeps': 1938, 'running': 2570, 'head': 1762, 'rest': 2530, 'lacks': 1958, 'art': 864, 'charm': 1072, 'meaning': 2090, 'emptiness': 1427, 'works': 3218, 'guess': 1731, 'empty': 1428, 'Wasted': 722, 'two': 3031, 'hours': 1818, 'Saw': 587, 'today': 2969, 'thought': 2940, 'good': 1708, 'effort': 1404, 'messages': 2109, 'kids': 1941, 'bit': 954, 'predictable': 2388, 'Loved': 444, 'casting': 1044, 'Jimmy': 391, 'Buffet': 140, 'science': 2601, 'teacher': 2897, 'baby': 906, 'owls': 2275, 'adorable': 792, 'showed': 2682, 'lot': 2038, 'Florida': 271, 'made': 2054, 'look': 2030, 'appealing': 852, 'Songs': 619, 'Best': 118, 'Muppets': 487, 'Hilarious': 342, 'Cool': 184, 'right': 2547, 'case': 1040, 'delivers': 1290, 'everything': 1475, 'face': 1524, 'average': 893, 'main': 2056, 'person': 2319, 'low': 2046, 'budget': 1007, 'clearly': 1110, 'see': 2622, 'review': 2541, 'long': 2028, 'overdue': 2270, 'since': 2696, 'consider': 1173, 'Tale': 658, 'Two': 694, 'Sisters': 613, 'single': 2700, 'greatest': 1724, 'film': 1581, 'ever': 1470, 'Ill': 365, 'put': 2439, 'gem': 1675, 'terms': 2915, 'screenplay': 2608, 'cinematography': 1103, 'postproduction': 2379, 'editing': 1398, 'directing': 1328, 'aspect': 873, 'filmmaking': 1584, 'practically': 2385, 'perfect': 2311, 'B\\x16': 94, 'true': 3016, 'masterpiece': 2079, 'sea': 2615, 'faux': 1561, 'masterpieces': 2080, 'structure': 2817, 'easily': 1393, 'tightly': 2959, 'constructed': 1181, 'history': 1793, 'cinema': 1100, '1': 2, 'think': 2935, 'something': 2742, 'vitally': 3130, 'important': 1849, 'occurs': 2232, 'every': 1471, 'minute': 2121, 'words': 3214, 'content': 1185, 'level': 1995, 'enough': 1446, 'fill': 1580, 'dozen': 1366, 'films': 1587, 'anyone': 847, 'mind': 2115, 'ask': 871, 'quite': 2450, 'simply': 2695, 'highest': 1786, 'superlative': 2857, 'form': 1634, 'imaginable': 1843, 'Yes': 750, 'require': 2527, 'rather': 2462, 'significant': 2690, 'amount': 832, 'puzzlesolving': 2441, 'pieces': 2332, 'fit': 1603, 'together': 2971, 'create': 1226, 'beautiful': 929, 'picture': 2329, 'short': 2675, 'certainly': 1057, 'pulls': 2432, 'punches': 2434, '0': 0, 'Graphics': 315, 'far': 1550, 'part': 2294, 'game': 1668, 'number': 2219, 'one': 2245, 'TH': 653, 'series': 2649, 'deserves': 1303, 'strong': 2815, 'love': 2042, 'insane': 1880, 'massive': 2076, 'levels': 1996, 'unlockable': 3074, 'Waste': 721, 'money': 2135, 'kind': 1946, 'wasted': 3159, 'properly': 2421, 'Actually': 55, 'graphics': 1719, 'time': 2960, 'Today': 677, 'crap': 1222, 'say': 2585, 'Canada': 152, 'fun': 1656, 'aye': 903, 'rocks': 2555, 'Buy': 143, 'play': 2342, 'enjoy': 1442, 'PURE': 525, 'BRILLIANCE': 99, 'flick': 1613, 'doomed': 1362, 'conception': 1159, 'idea': 1832, 'lame': 1961, 'take': 2883, 'minor': 2120, 'character': 1065, 'mediocre': 2094, 'PG13': 520, 'make': 2059, 'complete': 1148, 'nonsequel': 2209, 'changing': 1064, 'tone': 2975, 'PGrated': 521, 'family': 1542, 'wasnt': 3157, 'least': 1981, 'interested': 1902, 'confirm': 1167, 'would': 3228, 'unfunny': 3067, 'generic': 1678, 'also': 821, 'managed': 2067, 'give': 1693, 'away': 899, 'ENTIRE': 225, 'Im': 366, 'exaggerating': 1482, 'moment': 2132, 'point': 2360, 'joke': 1927, 'told': 2972, 'trailer': 2994, 'funny': 1660, 'talented': 2889, 'Carrell': 158, 'cant': 1028, 'save': 2582, 'costars': 1209, 'dont': 1361, 'fare': 1552, 'much': 2160, 'better': 945, 'people': 2310, 'like': 2006, 'Morgan': 481, 'Freeman': 282, 'Jonah': 394, 'Hill': 343, 'Ed': 232, 'Helms': 335, 'story': 2806, 'lazy': 1976, 'real': 2470, 'effects': 1403, 'work': 3215, 'presence': 2394, 'animals': 840, 'integration': 1894, 'scenes': 2596, 'worst': 3223, 'obvious': 2227, 'bluegreenscreen': 965, 'Ive': 378, 'seen': 2628, 'whatever': 3181, 'cost': 1208, 'didnt': 1323, 'translate': 2999, 'quality': 2444, 'thats': 2920, 'succeeds': 2840, 'despite': 1311, 'perhaps': 2316, 'obviously': 2228, 'meagre': 2087, 'glad': 1697, 'go': 1701, 'choice': 1095, 'lesser': 1990, 'addition': 788, 'lovely': 2044, 'songs': 2747, 'written': 3238, 'French': 283, 'Cancan': 153, 'boasts': 967, 'cutest': 1252, 'leading': 1978, 'ladies': 1959, 'grace': 1715, 'screen': 2605, 'hard': 1756, 'fall': 1536, 'headoverheels': 1763, 'girl': 1689, 'negative': 2188, 'insipid': 1883, 'cause': 1048, 'regret': 2494, 'another': 845, '2': 19, 'life': 2001, 'front': 1649, 'Long': 438, 'whiny': 3187, 'pointless': 2362, 'recommend': 2484, 'waiting': 3140, 'future': 1662, 'efforts': 1405, 'let': 1992, 'Excellent': 252, 'cast': 1042, 'line': 2012, 'performances': 2315, 'Totally': 684, 'believable': 939, 'Anne': 76, 'Heche': 333, 'utterly': 3103, 'convincing': 1201, 'Sam': 583, 'Shepards': 606, 'portrayal': 2372, 'gung': 1734, 'ho': 1794, 'Marine': 459, 'sobering': 2735, 'sat': 2581, 'riveted': 2552, 'TV': 655, 'resounding': 2529, '9': 43, '10': 3, 'Tom': 678, 'Hanks': 326, 'actor': 779, 'enjoyed': 1444, 'reading': 2468, 'book': 976, 'children': 1090, 'One': 514, 'totally': 2984, 'annoying': 844, 'voice': 3133, 'gives': 1695, 'feeling': 1569, 'fingernails': 1597, 'chalkboard': 1058, 'unnecessary': 3078, 'trainroller': 2995, 'coaster': 1123, 'absolutely': 761, 'warmth': 3150, 'grates': 1721, 'nerves': 2190, 'improved': 1854, 'improvisation': 1856, 'actors': 780, 'twice': 3027, 'worry': 3221, 'whether': 3185, 'theyre': 2931, 'delivering': 1289, 'well': 3175, 'honestly': 1804, 'often': 2238, 'Often': 507, 'dialogue': 1321, 'doesnt': 1356, 'really': 2476, 'follow': 1619, 'surroundings': 2870, 'crackles': 1220, 'unpredictable': 3083, 'youthful': 3253, 'energy': 1439, 'found': 1639, 'concentrate': 1158, 'meanders': 2089, 'badly': 913, 'generally': 1676, 'great': 1722, 'things': 2934, 'wouldnt': 3230, 'worth': 3224, 'though': 2939, 'suspense': 2872, 'builders': 1008, 'cross': 1241, 'G': 289, 'PG': 519, 'especially': 1460, 'liked': 2007, 'noncliche': 2203, 'choices': 1096, 'parents': 2293, 'movies': 2158, 'could': 1212, 'predict': 2387, 'dialog': 1319, 'verbatim': 3109, 'writing': 3237, 'selections': 2629, 'want': 3145, 'gross': 1728, 'chills': 1092, 'Alexander': 61, 'Nevsky': 497, 'amazing': 827, 'artist': 867, 'whoever': 3190, 'lived': 2018, 'pretentious': 2396, 'piece': 2331, 'planned': 2340, 'Dodge': 216, 'stratus': 2810, 'Big': 122, 'Shots': 610, 'gonna': 1707, 'help': 1774, 'makers': 2060, 'arent': 860, 'restrained': 2531, 'business': 1014, 'QuCbec': 549, 'first': 1599, 'given': 1694, 'years': 3244, 'needed': 2186, 'wordofmouth': 3213, 'promote': 2417, 'Overall': 518, 'interesting': 1903, 'thoughtprovoking': 2941, 'Plus': 540, 'wellpaced': 3178, 'suited': 2849, 'relatively': 2503, 'run': 2569, 'Give': 306, 'gave': 1672, 'Wind': 739, 'Lion': 435, 'superbly': 2854, 'acted': 773, 'classic': 1107, 'actually': 784, 'turned': 3025, 'pretty': 2398, 'decent': 1275, 'Blist': 127, 'horrorsuspense': 1814, 'Definitely': 208, 'checking': 1079, 'problem': 2403, 'script': 2610, 'horrendous': 1808, 'NOTHING': 491, 'frustration': 1651, 'retarded': 2535, 'girls': 1692, 'MANNA': 450, 'HEAVEN': 322, 'terrific': 2918, 'occasionally': 2229, 'touching': 2987, 'evaluate': 1467, 'lives': 2019, 'going': 1705, 'veteran': 3114, 'nostalgia': 2212, 'trip': 3013, 'Ursula': 705, 'Burtons': 142, 'nun': 2221, 'making': 2062, 'nuns': 2222, 'church': 1099, 'looking': 2032, 'musicincluding': 2168, 'Shirley': 608, 'Jones': 395, 'rendition': 2517, 'Way': 728, 'Look': 439, 'Tonight': 680, 'uplifting': 3091, 'ending': 1435, 'try': 3019, 'Frankly': 281, 'Cotton': 188, 'club': 1120, 'Unfaithful': 701, 'embarrassing': 1418, 'watch': 3161, 'Lane': 420, 'Gere': 301, 'BAD': 95, 'bad': 911, 'dialogs': 1320, 'extremely': 1519, 'shallow': 2659, 'insincere': 1882, 'chick': 1087, 'politically': 2366, 'correct': 1207, 'disappointing': 1335, 'thing': 2933, 'watching': 3164, 'scenery': 2595, 'house': 1819, 'never': 2194, 'lousy': 2040, 'hour': 1817, 'wish': 3200, 'bring': 1000, 'back': 908, 'fresh': 1644, 'bold': 970, 'helps': 1776, 'along': 818, 'maybe': 2086, 'idiotsavant': 1839, 'sister': 2704, 'played': 2343, 'joy': 1930, 'boring': 983, 'sometimes': 2743, 'occupied': 2230, 'peaking': 2306, 'paper': 2292, 'instead': 1888, 'happened': 1753, 'Columbo': 176, 'seems': 2627, 'ohsomature': 2240, 'neighbourgirl': 2189, 'misplace': 2125, 'weaker': 3170, 'episode': 1453, 'debated': 1271, 'sack': 2573, 'trumpeter': 3018, 'falsely': 1539, 'accused': 770, 'murder': 2162, 'pure': 2437, 'horror': 1813, 'stupid': 2824, 'applause': 856, 'prelude': 2391, 'however': 1821, 'director': 1330, 'edge': 1397, 'seat': 2619, 'somewhat': 2744, 'afraid': 801, 'car': 1031, 'end': 1431, 'night': 2198, 'nice': 2197, 'Id': 364, 'advise': 797, 'Brilliant': 137, '1010': 4, 'way': 3166, 'playing': 2346, 'villain': 3121, 'rent': 2519, 'Michael': 471, 'Ironside': 375, 'rocked': 2554, 'world': 3219, 'must': 2169, 'social': 2736, 'physical': 2327, 'outlets': 2264, 'However': 356, 'fact': 1528, 'overall': 2268, 'tremendously': 3009, 'chemistry': 1086, 'Ben': 114, 'Affleck': 57, 'Sandra': 584, 'Bullock': 141, 'couldnt': 1213, 'understand': 3053, 'leaving': 1984, 'wifetobe': 3195, 'supposedly': 2861, 'knocked': 1950, 'several': 2657, 'moments': 2133, 'need': 2185, 'excruciatingly': 1493, 'slow': 2721, 'moving': 2159, 'remake': 2510, 'Friends': 284, 'Wedding': 731, 'disappointment': 1336, 'cannot': 1027, 'believe': 940, 'agreed': 807, 'stand': 2781, 'fear': 1564, 'losing': 2036, 'IQ': 363, 'nobody': 2200, 'network': 2193, 'aired': 810, 'dribble': 1375, 'watched': 3163, 'putting': 2440, 'IMDB': 362, 'ratings': 2464, 'awful': 901, 'get': 1683, 'numbers': 2220, 'cases': 1041, 'saw': 2584, 'Mirrormask': 476, 'last': 1964, 'unsatisfactory': 3089, 'experience': 1504, 'Unfortunately': 702, 'inexperience': 1877, 'direction': 1329, 'meant': 2092, 'passed': 2299, 'dramatic': 1370, 'tension': 2912, 'conflict': 1168, 'central': 1054, 'themes': 2928, 'handled': 1747, 'ineptly': 1876, 'stereotypically': 2796, 'depth': 1297, 'imagination': 1844, 'pictures': 2330, 'flawed': 1610, 'core': 1205, 'waste': 3158, 'following': 1620, 'bunch': 1013, 'high': 1784, 'schoolers': 2599, 'whine': 3186, 'cry': 1245, 'relate': 2497, 'hell': 1772, 'barely': 921, 'definitely': 1283, 'cult': 1246, 'viewing': 3119, 'sharing': 2663, 'others': 2259, 'disaster': 1337, 'confuses': 1169, 'incredibly': 1866, 'fish': 1600, 'underwater': 3059, 'shots': 2678, 'repeated': 2521, 'thousand': 2944, 'times': 2964, 'truly': 3017, 'terrible': 2916, 'worse': 3222, 'possible': 2377, 'redeemed': 2488, 'MST3K': 453, 'fodder': 1618, 'paid': 2283, 'Also': 64, 'treat': 3006, 'Anthony': 79, 'Quinn': 551, 'Crazy': 192, 'Horse': 352, 'BORING': 98, 'whatsoever': 3182, 'Horrible': 350, 'Worst': 746, 'lifeOh': 2002, 'gosh': 1711, 'walk': 3142, 'theatre': 2923, 'minutes': 2122, 'relief': 2507, 'hate': 1758, 'Yeah': 749, 'sucked': 2843, 'PLOT': 523, 'STORYLINE': 581, 'pillow': 2335, 'girlfriendboyfriend': 1691, 'keep': 1937, 'Awful': 92, 'gone': 1706, 'disliked': 1344, 'tickets': 2958, 'five': 1604, 'dollars': 1358, 'mad': 2053, '750': 36, 'NOBODY': 490, 'identifies': 1835, 'cardboard': 1033, 'cutouts': 1254, 'stereotypes': 2795, 'predictably': 2389, 'reversestereotypes': 2540, 'actorsan': 781, 'ugly': 3036, 'cartoon': 1038, 'crafted': 1221, 'Paul': 530, 'Haggis': 325, 'handle': 1746, 'strokes': 2814, 'storytellinga': 2808, 'painted': 2287, 'crayons': 1225, 'Crash': 191, 'depressing': 1296, 'nothing': 2217, 'provokes': 2425, 'emotion': 1422, 'teaches': 2898, 'already': 820, 'know': 1951, 'racism': 2453, 'prejudice': 2390, 'Still': 639, 'empowerment': 1426, 'women': 3205, 'theres': 2930, 'brain': 990, 'attempt': 884, 'shutdown': 2684, 'primal': 2400, 'impulse': 1857, 'selfpreservation': 2633, 'left': 1985, 'shattered': 2665, 'took': 2978, 'fully': 1654, 'recover': 2486, 'joins': 1926, 'Revenge': 565, 'Boogeyman': 130, 'Zombiez': 757, 'hellish': 1773, 'trinity': 3012, 'mean': 2088, 'distinction': 1347, 'redeeming': 2489, 'features': 1566, 'Everything': 250, 'appalling': 851, 'Artless': 84, 'camerawork': 1022, 'endlessly': 1436, 'presents': 2395, 'us': 3095, 'ugliest': 3035, 'setting': 2655, 'ie': 1841, 'beyond': 947, 'isB\\x05was': 1914, 'lead': 1977, 'charismafree': 1070, 'Utterly': 706, 'without': 3202, 'merit': 2106, 'akin': 811, 'torture': 2981, 'Maybe': 466, 'reasonable': 2478, 'explanation': 1509, 'atrocity': 883, 'pleasant': 2348, 'voyage': 3139, 'selfdiscovery': 2631, 'Highly': 341, 'unrecommended': 3086, 'premise': 2392, 'sound': 2753, 'Nothing': 504, 'excellent': 1484, 'performance': 2314, 'Ms': 485, 'Garbo': 293, 'bat': 926, 'talents': 2890, 'carry': 1036, 'silent': 2691, 'era': 1456, 'wanted': 3146, 'Netflix': 494, 'seem': 2625, 'stocking': 2801, 'renowned': 2518, 'screenwriter': 2609, 'Frances': 279, 'Marion': 460, 'hasnt': 1757, 'missed': 2127, 'step': 2794, 'suffered': 2845, 'many': 2069, 'close': 1115, 'ups': 3093, 'seemed': 2626, 'drag': 1368, 'heroes': 1779, 'freedom': 1643, 'Youll': 753, 'ones': 2247, 'received': 2481, 'age': 803, 'John': 393, 'Wayne': 729, 'incredible': 1865, 'job': 1924, 'industry': 1875, 'shined': 2672, 'senior': 2638, 'older': 2242, 'selfindulgent': 2632, 'junk': 1934, 'probably': 2402, 'hadnt': 1738, 'spent': 2765, 'showcasing': 2681, 'isnt': 1915, 'noteworthy': 2216, 'Another': 78, 'got': 1712, 'punched': 2433, 'gallon': 1667, 'blood': 963, 'spew': 2766, 'forth': 1637, 'soon': 2748, 'Jamie': 381, 'Foxx': 278, 'Ray': 559, 'Charles': 164, 'genius': 1679, 'owns': 2277, 'Spacek': 624, 'owned': 2276, 'Coal': 173, 'Miners': 475, 'Daughter': 201, 'Quaid': 550, 'Great': 316, 'Balls': 103, 'Fire': 268, 'remember': 2512, 'legendary': 1987, 'provided': 2424, 'biographical': 952, 'material': 2082, 'goes': 1704, 'musician': 2167, 'Hitchcock': 344, 'Ironically': 373, 'mostly': 2143, 'total': 2983, 'Secondly': 599, 'perfected': 2312, 'thriller': 2949, 'chase': 1074, 'pandering': 2289, 'sabotages': 2572, 'Hence': 336, 'whole': 3191, 'certain': 1056, 'rumbles': 2568, 'machine': 2052, 'desperately': 1308, 'depending': 1292, 'new': 2195, 'usual': 3101, 'logic': 2026, 'flaws': 1611, 'Mishima': 477, 'uninteresting': 3069, 'chilly': 1093, 'unremarkable': 3087, 'author': 892, 'livingworking': 2021, 'abstruse': 762, 'culture': 1247, 'reenactments': 2490, 'hold': 1796, 'attention': 887, 'emotionally': 1423, 'adrift': 795, 'stagy': 2780, 'sits': 2710, 'soldiers': 2737, 'singing': 2699, 'masculinity': 2075, 'pledge': 2351, 'hairsplitting': 1740, 'purity': 2438, 'admiration': 790, 'swords': 2878, 'etc': 1465, 'bore': 981, 'kill': 1942, 'momentum': 2134, 'quicker': 2448, 'else': 1414, 'Schrader': 590, 'resume': 2534, 'full': 1653, 'amateurish': 824, '80s': 39, 'loved': 2043, 'fascinated': 1553, 'dancing': 1261, 'recently': 2483, 'DVD': 198, 'completely': 1150, 'struck': 2816, 'storyline': 2807, 'contained': 1182, 'holes': 1799, 'inconsistencies': 1863, 'frankly': 1641, 'horrid': 1811, 'realistic': 2472, 'NEVER': 489, 'gotten': 1713, 'ballet': 919, 'repertory': 2524, 'pathetic': 2303, 'developments': 1317, 'lacked': 1957, 'Woa': 740, 'talk': 2891, 'horrible': 1810, 'sappiest': 2580, 'unwatchable': 3090, 'tell': 2908, 'talent': 2888, 'action': 777, 'check': 1078, 'directors': 1332, 'filmography': 1586, 'site': 2708, 'chance': 1060, 'intentions': 1899, 'might': 2113, 'master': 2077, 'themeat': 2927, 'wouldbe': 3229, 'theme': 2926, 'undertone': 3058, 'fifties': 1579, 'existential': 1498, 'worldweariness': 3220, 'aerial': 798, 'ought': 2260, 'thrilled': 2948, 'senses': 2640, 'deeply': 1280, 'care': 1034, 'Regrettably': 564, 'fails': 1532, 'visual': 3128, 'interest': 1901, 'drama': 1369, 'expression': 1513, 'celebration': 1050, 'patriotism': 2304, 'underlines': 3049, 'narrative': 2175, 'actress': 782, 'used': 3097, 'June': 400, 'Allison': 62, 'Yet': 751, 'plain': 2339, 'Bad': 101, 'cinematographyif': 1104, 'called': 1017, 'thatsucked': 2921, 'soundtrack': 2756, 'concert': 1162, 'sequences': 2648, 'cheap': 1076, 'trash': 3002, 'considering': 1176, 'ridiculousness': 2546, 'came': 1019, 'angry': 838, 'SPOILERS': 579, 'Whatever': 734, 'said': 2575, 'SURFACE': 582, 'stunning': 2823, 'fx': 1663, 'stateoftheart': 2790, 'Conceptually': 177, 'show': 2679, 'offers': 2237, 'everybody': 1472, 'fantasy': 1549, 'andor': 835, 'fans': 1547, 'sour': 2757, 'note': 2215, 'actingwise': 776, 'either': 1408, 'surprisingly': 2868, 'solid': 2739, 'considered': 1175, 'done': 1360, 'Thanks': 664, 'released': 2506, 'mexican': 2111, 'less': 1989, 'understood': 3057, 'matter': 2083, 'identified': 1834, 'felt': 1572, 'ranks': 2458, 'highly': 1788, 'noircrimedrama': 2202, 'Belmondo': 113, 'Lino': 434, 'Ventura': 711, 'complex': 1151, 'psychological': 2428, 'portrayals': 2373, 'detailing': 1313, 'loyalty': 2049, 'treachery': 3004, 'hope': 1806, 'tremendous': 3008, 'Melville': 469, 'journey': 1929, 'eyes': 1522, 'soul': 2752, 'child': 1088, 'BLACK': 97, 'WATER': 715, 'manages': 2068, 'transcend': 2997, 'limitations': 2010, 'indie': 1871, 'continually': 1186, 'subverting': 2838, 'expectations': 1501, 'emerge': 1420, 'intense': 1897, 'gripping': 1727, 'crocdodile': 1239, 'indeed': 1867, 'Black': 124, 'Water': 724, 'website': 3171, 'believed': 941, 'crocs': 1240, 'swamp': 2874, 'location': 2024, 'fabulous': 1523, 'thoroughly': 2938, 'Christopher': 169, 'Eccleston': 231, 'control': 1196, 'TARDIS': 652, 'continuation': 1187, 'turn': 3024, 'day': 1265, 'disturbing': 1351, 'memories': 2100, 'succeeded': 2839, 'places': 2338, 'forced': 1625, 'Heres': 338, 'pied': 2333, 'started': 2788, 'jerky': 1922, 'theater': 2922, 'sick': 2686, 'Summary': 647, 'witticisms': 3203, 'werent': 3180, 'witty': 3204, 'Really': 560, 'Even': 248, 'Billy': 123, 'Bob': 128, 'rise': 2550, 'Camerawork': 151, 'Rating': 557, 'AMAZING': 48, 'finale': 1590, 'possibly': 2378, 'BEST': 96, 'trilogy': 3011, 'Kieslowski': 407, 'ceases': 1049, 'amaze': 825, 'favourite': 1563, 'use': 3096, 'colours': 1129, 'flag': 1605, 'three': 2946, 'shot': 2677, 'Three': 672, 'visually': 3129, 'ive': 1919, 'subtle': 2836, 'connections': 1171, 'awesome': 900, 'mention': 2104, 'huge': 1822, 'SPOILER': 578, 'remaining': 2509, 'survivors': 2871, 'ferry': 1575, 'Valentine': 708, 'judge': 1931, 'old': 2241, 'solidifying': 2740, 'happiness': 1754, 'suffering': 2846, 'dealt': 1269, 'smile': 2729, 'wrap': 3233, 'EVERYONE': 227, 'loves': 2045, 'anythingA': 849, 'Work': 744, 'Art': 83, 'literally': 2015, 'vomited': 3138, 'roths': 2562, 'pearls': 2307, 'awarded': 897, 'eloquently': 1413, 'Francis': 280, 'ford': 1627, 'Coppola': 185, '25': 25, 'earlier': 1390, 'unfolds': 3064, 'gradually': 1716, 'leaves': 1983, 'room': 2561, 'develop': 1315, 'wonderful': 3208, 'lies': 1999, 'contrast': 1192, 'directed': 1327, 'Nicolas': 498, 'roeg': 2556, 'wih': 3196, 'sublime': 2830, 'translating': 3000, 'living': 2020, '5year': 33, 'working': 3217, 'offensive': 2235, 'intelligence': 1895, 'someone': 2741, 'strives': 2813, 'greatness': 1725, 'poetry': 2357, 'muddled': 2161, 'disparate': 1345, 'reviewer': 2542, 'accurately': 769, 'defined': 1282, 'intelligent': 1896, 'masterful': 2078, 'sense': 2639, 'pitiful': 2336, 'human': 1823, 'nature': 2181, 'tolerate': 2974, 'political': 2365, 'incorrectness': 1864, 'artistic': 868, 'suspension': 2873, 'disbelief': 1338, 'Slavic': 614, 'female': 1573, 'entertaining': 1449, 'outlandish': 2263, 'array': 863, 'memorable': 2099, 'psychotic': 2429, 'lovable': 2041, 'nuts': 2225, 'enjoyment': 1445, 'around': 862, 'games': 1669, 'dangerous': 1262, 'sweet': 2876, 'telephone': 2906, 'repair': 2520, 'reactions': 2466, 'bitchy': 955, 'boss': 986, 'genuine': 1682, 'smart': 2727, 'brilliant': 998, 'twist': 3029, 'youll': 3249, 'shed': 2666, 'tear': 2900, 'seeing': 2623, 'forget': 1629, 'CLASSIC': 146, 'underneath': 3051, 'Malta': 455, 'settings': 2656, 'dry': 1381, 'barren': 923, 'hockey': 1795, 'defensemen': 1281, '5': 30, 'goalies': 1702, 'diving': 1352, 'feet': 1570, 'wide': 3194, 'net': 2192, 'havent': 1761, 'call': 1016, 'Started': 633, 'particular': 2296, 'relationship': 2501, 'bakery': 915, 'assistant': 877, 'waitress': 3141, 'superficial': 2855, 'stagey': 2779, 'stage': 2778, 'farce': 1551, 'pyromaniac': 2442, 'waylaid': 3167, 'bored': 982, 'next': 2196, 'switched': 2877, 'Glad': 307, 'pay': 2305, 'Didnt': 212, 'laugh': 1971, 'big': 949, 'yawn': 3241, 'educational': 1400, '8': 37, 'Barney': 105, 'super': 2852, 'DE': 196, 'duper': 1388, 'Babie': 100, 'Bop': 131, 'cute': 1250, 'cool': 1203, 'Storm': 640, 'Trooper': 689, 'list': 2014, 'wonderfully': 3209, 'guy': 1735, 'hes': 1782, 'potted': 2380, 'plants': 2341, 'shameful': 2661, 'television': 2907, 'plus': 2355, 'writers': 3236, 'smack': 2725, 'actresses': 783, 'bonus': 973, 'showThese': 2680, 'taped': 2893, 'episodes': 1454, 'exactly': 1481, 'latched': 1966, 'endearing': 1433, 'become': 932, 'special': 2761, 'familys': 1543, 'likes': 2008, 'wholesome': 3192, 'four': 1640, 'hilarious': 1789, 'shows': 2683, 'sibling': 2685, 'bond': 972, 'Much': 486, 'unneeded': 3079, 'controversy': 1197, 'Damian': 199, 'versatile': 3110, 'ways': 3168, 'portraying': 2375, 'different': 1325, 'Characters': 163, 'cutting': 1256, 'pleased': 2349, 'modern': 2129, 'letting': 1994, 'passion': 2300, 'drive': 1378, 'taking': 2886, 'forgetting': 1631, 'Ireland': 372, 'scared': 2590, 'horrified': 1812, 'sympathetic': 2879, 'towards': 2989, 'movements': 2151, 'attempts': 886, 'supposed': 2860, 'light': 2004, 'situation': 2711, 'leave': 1982, 'shelf': 2668, 'Elias': 237, 'KoteasJack': 410, 'Palance': 526, 'roles': 2558, 'Angelina': 72, 'hot': 1816, 'gets': 1684, 'nakedBilly': 2173, 'Drago': 221, 'appears': 854, 'cameo': 1020, 'Sven': 650, 'ole': 2244, 'Thorsen': 670, 'enjoyable': 1443, 'bought': 988, 'Ebay': 229, 'poler': 2364, 'bear': 928, 'kinda': 1947, 'cuteBut': 1251, 'question': 2445, 'Fort': 275, 'Steele': 634, 'UNfunny': 695, 'top': 2979, 'unrealistic': 3084, 'throughout': 2952, '90': 44, 'utter': 3102, 'looked': 2031, '70000': 34, 'Lucy': 447, 'Bell': 111, 'higher': 1785, 'sink': 2702, 'slackers': 2715, 'excuses': 1495, 'actions': 778, 'God': 309, 'parts': 2298, 'wonder': 3206, 'excerpts': 1489, 'sets': 2654, 'designed': 1306, 'amazingstylized': 829, 'effective': 1402, 'exemplars': 1497, 'set': 2653, 'designer': 1307, 'stories': 2805, 'powerful': 2382, 'explorations': 1511, 'learn': 1980, 'politics': 2367, 'Japanese': 382, 'rendering': 2516, 'Americas': 68, 'Imperial': 368, 'makes': 2061, 'production': 2413, 'values': 3105, 'faultless': 1560, 'photography': 2324, 'composition': 1154, 'underappreciated': 3047, 'Brian': 135, 'Keith': 405, 'bully': 1012, 'Teddy': 662, 'vivid': 3131, 'Though': 671, 'largely': 1963, 'son': 2745, 'member': 2097, 'identify': 1836, 'Sean': 597, 'Connerys': 180, 'noble': 2199, 'brigand': 995, 'Candace': 154, 'Bergens': 116, 'feisty': 1571, 'heroine': 1780, 'Hustons': 360, 'wily': 3198, 'Hay': 330, 'Steve': 636, 'Kanalys': 402, 'spiffy': 2768, 'radiant': 2454, 'ruthless': 2571, 'cando': 1026, 'lieutenant': 2000, 'Roosevelts': 572, 'Stick': 638, 'adventure': 796, 'Robert': 570, 'Ryans': 575, 'portrayed': 2374, 'father': 1559, 'schizophrenic': 2597, 'lifemy': 2003, 'although': 822, 'murdered': 2163, 'affected': 800, 'second': 2620, 'war': 3149, 'humour': 1829, 'apt': 859, 'mother': 2144, 'brother': 1005, 'thisWhen': 2937, 'Ryan': 574, 'type': 3033, 'imitation': 1847, 'individual': 1872, 'impressed': 1851, 'Almost': 63, 'Cover': 189, 'Girl': 304, 'oldfashioned': 2243, 'tuneful': 3023, 'Rita': 568, 'Hayworth': 332, 'pedestal': 2309, 'example': 1483, 'Hollywood': 348, 'exploit': 1510, 'financial': 1592, 'gain': 1665, 'Nonlinear': 502, 'narration': 2174, 'thus': 2957, 'flashbacks': 1607, 'articulated': 865, 'Monica': 480, 'Bellucci': 112, 'commentary': 1140, 'todays': 2970, 'undoubtedly': 3060, 'timers': 2963, 'popular': 2371, 'plenty': 2352, 'laughs': 1974, 'feelgood': 1568, 'northern': 2211, 'positive': 2376, 'community': 1144, 'represents': 2526, 'seriously': 2651, 'created': 1227, 'unique': 3071, 'Vivian': 713, 'Schilling': 589, '95': 47, 'garbage': 1671, 'theatres': 2924, 'role': 2557, 'screamy': 2604, 'masculine': 2074, 'casted': 1043, 'ready': 2469, 'European': 247, 'throwback': 2953, 'student': 2819, '1980s': 15, 'experiences': 1505, 'abroad': 760, 'interacting': 1900, 'nationalities': 2178, 'circumstances': 1105, 'slightly': 2718, 'fan': 1545, 'Ticker': 674, '3': 26, '4': 28, 'buildings': 1009, 'couple': 1214, 'locations': 2025, 'MAYBE': 451, 'hummh': 1826, 'blew': 962, 'excellentAngel': 1485, 'Scamp': 588, 'adorableHis': 793, 'yelps': 3245, 'scaredand': 2591, 'funniest': 1659, 'whenScamp': 3183, 'caught': 1047, 'curtain': 1249, 'Angel': 69, 'Never': 495, 'Feeling': 262, 'BeforeI': 109, 'movieits': 2156, 'coming': 1137, 'edition': 1399, '20The': 23, 'cover': 1218, 'scamp': 2588, 'lid': 1997, 'explain': 1507, 'romanticcharminghilariousand': 2560, 'adorableThe': 794, 'junkyard': 1935, 'funnyall': 1661, 'dogs': 1357, 'specialToo': 2762, 'laughedkids': 1973, 'LOVE': 414, 'itBuy': 1918, 'comes': 1133, 'outit': 2262, 'chosen': 1098, 'tortured': 2982, 'disgusting': 1342, 'blatant': 961, 'American': 66, 'propaganda': 2420, 'Americans': 67, 'hatred': 1760, 'clichCs': 1112, 'admitted': 791, 'elsewhere': 1416, 'everyone': 1473, 'involved': 1910, 'return': 2537, 'school': 2598, 'pile': 2334, 'round': 2564, 'enter': 1447, 'admins': 789, 'place': 2337, 'Thunderbirds': 673, 'slowmotion': 2722, 'needlessly': 2187, 'repeats': 2523, 'backed': 910, 'word': 3212, 'continuity': 1189, 'thrown': 2954, 'reason': 2477, 'vehicles': 3107, 'Corn': 187, 'Flakes': 270, 'box': 989, 'directorial': 1331, 'style': 2826, 'bordered': 978, 'stupidity': 2825, 'Oh': 508, 'yeah': 3242, 'reviews': 2544, 'star': 2783, 'proud': 2422, 'filmmaker': 1583, 'hide': 1783, 'sand': 2579, 'monumental': 2140, 'EVER': 226, 'free': 1642, 'player': 2344, 'still': 2798, 'halfway': 1742, 'embarrassed': 1417, 'Howell': 355, '110': 5, '010': 1, 'always': 823, 'nutbag': 2224, 'side': 2687, 'Stephen': 635, 'McHattie': 467, 'Lance': 419, 'Hendrikson': 337, 'raging': 2455, 'cheekbones': 1081, 'actingeven': 775, 'professionals': 2414, 'Debbie': 205, 'Rochonwas': 571, 'contributory': 1194, 'former': 1636, 'chimplike': 1094, 'tolerable': 2973, 'SETS': 577, 'oyvey': 2278, 'scale': 2587, 'simplifying': 2694, 'sake': 2576, 'brevity': 993, 'problems': 2404, 'fulfilling': 1652, 'jobs': 1925, 'amusing': 833, 'convoluted': 1202, 'convince': 1200, 'weird': 3174, 'questioning': 2446, 'glance': 1698, 'girlfriend': 1690, 'hated': 1759, '15': 7, 'Bela': 110, 'Lugosi': 448, 'extraneous': 1517, 'intoning': 1907, 'odd': 2233, 'decidely': 1276, 'wooden': 3211, 'period': 2317, 'Universal': 703, 'B': 93, 'Armand': 82, 'Assante': 86, 'cable': 1015, 'companys': 1145, 'summary': 2851, 'sounded': 2754, 'tying': 3032, 'loose': 2034, 'ends': 1437, '810': 40, 'score': 2603, 'wont': 3210, 'spoilers': 2773, 'Wow': 747, 'frightening': 1648, 'comprehensible': 1155, 'hang': 1750, 'camp': 1023, 'value': 3104, 'expecting': 1503, 'Oscar': 516, 'Youd': 752, 'particularly': 2297, 'mollusk': 2131, 'loosely': 2035, 'insult': 1891, 'moviegoing': 2154, 'public': 2430, 'knew': 1949, 'string': 2812, 'lower': 2048, 'Fox': 276, 'Movie': 484, 'Channel': 162, 'contract': 1191, 'scripts': 2613, 'Victor': 712, 'McLaglen': 468, 'DonLevy': 217, 'unrecognizable': 3085, 'Considering': 182, 'relations': 2500, 'Taylor': 659, 'Stanwyck': 630, 'surprising': 2867, 'President': 544, 'US': 697, 'death': 1270, 'row': 2566, 'entirely': 1451, 'unmoving': 3077, 'Taylors': 660, 'Stanwycks': 631, 'producer': 2410, 'come': 1130, 'gifted': 1688, 'cheerless': 1083, 'heist': 1771, 'characterisation': 1067, 'lots': 2039, 'underbite': 3048, 'stoic': 2803, 'emoting': 1421, 'Chow': 167, 'Yun': 755, 'Fat': 260, 'Better': 119, 'Tomorrow': 679, 'cheesy': 1085, 'abandoned': 758, 'factory': 1530, 'poorly': 2369, 'executed': 1496, 'flying': 1616, 'judo': 1933, 'rolls': 2559, 'la': 1955, 'Woo': 742, 'squibs': 2776, 'proceedings': 2406, 'remotely': 2514, 'America': 65, 'derivative': 1298, 'mercy': 2105, 'killing': 1944, 'hopeless': 1807, 'overacting': 2267, 'space': 2758, 'uneasy': 3061, 'composed': 1153, '30': 27, 'footage': 1623, 'elderly': 1410, 'awkwardly': 902, 'babbling': 905, 'overwrought': 2273, 'pseudoSatanic': 2427, 'gibberish': 1687, 'corny': 1206, 'teen': 2903, 'Goth': 312, 'blush': 966, 'Olde': 511, 'English': 241, 'Latin': 424, 'may': 2085, 'sloppy': 2720, 'Hackneyed': 324, 'course': 1215, 'blah': 957, 'balanced': 917, 'perfectly': 2313, 'underacting': 3046, 'FINALLY': 255, 'wouldve': 3231, 'competent': 1147, 'Jerry': 387, 'Falwell': 258, 'share': 2662, 'starring': 2785, 'Jaclyn': 379, 'Smith': 616, 'god': 1703, '12': 6, 'ago': 805, 'allstar': 816, 'opened': 2250, 'length': 1988, 'rate': 2460, 'Lifetime': 430, 'air': 809, 'knows': 1953, 'store': 2804, 'sells': 2636, 'musthave': 2170, 'assaulted': 876, 'strident': 2811, 'cords': 1204, 'blare': 960, 'warning': 3152, 'sort': 2751, 'pap': 2291, 'screened': 2607, 'afternoon': 802, 'punish': 2435, 'unemployed': 3062, 'loads': 2022, 'understatement': 3056, 'comedy': 1132, 'creates': 1228, 'universe': 3073, 'fascinating': 1554, 'See': 600, 'team': 2899, 'behind': 937, 'continue': 1188, 'forgot': 1632, 'Casting': 160, 'superb': 2853, 'Trond': 688, 'Fausa': 261, 'AurvCg': 88, 'Bothersome': 132, 'Man': 456, 'humorous': 1828, 'comment': 1139, '2006': 22, 'move': 2149, 'Initially': 369, 'local': 2023, 'sites': 2709, 'filmed': 1582, 'Buffalo': 139, 'intrigued': 1908, 'Later': 423, 'power': 2381, 'entire': 1450, 'applauded': 855, 'conclusion': 1163, 'lilt': 2009, 'heart': 1767, 'race': 2451, 'Duris': 222, 'appearance': 853, 'fine': 1595, 'Cinematography': 170, 'including': 1861, 'views': 3120, 'Barcelona': 104, 'famed': 1541, 'Gaudi': 296, 'towers': 2990, 'ten': 2910, 'thoughts': 2942, 'dislike': 1343, 'ended': 1434, 'despised': 1310, 'looks': 2033, 'rough': 2563, 'draft': 1367, 'shooting': 2674, 'began': 934, 'finished': 1598, 'completed': 1149, 'Things': 667, 'happen': 1752, 'personalities': 2320, 'change': 1062, 'twists': 3030, 'occur': 2231, 'calls': 1018, 'irritating': 1913, 'indescribably': 1868, 'idiotic': 1838, 'idiot': 1837, 'produce': 2408, 'mess': 2108, 'season': 2618, 'contains': 1184, 'cheesiness': 1084, 'unethical': 3063, 'normally': 2210, 'rated': 2461, 'R': 552, 'NC17': 488, 'Actors': 54, 'Final': 267, 'Word': 743, 'Show': 611, 'zillion': 3256, 'reality': 2473, 'Watching': 723, 'washing': 3156, 'twirling': 3028, 'hurt': 1830, 'Grade': 314, 'Z': 756, 'Note': 503, 'Mother': 482, 'Cast': 159, 'Pull': 545, '20th': 24, 'Century': 161, 'Foxs': 277, 'ROAD': 554, 'HOUSE': 323, '1948': 11, 'silly': 2692, 'noir': 2201, 'implausible': 1848, 'unmitigated': 3076, 'Full': 287, 'unconvincing': 3045, 'blandly': 959, 'Edward': 234, 'Chodorov': 166, 'produced': 2409, 'Jean': 385, 'Negulesco': 492, 'expect': 1500, 'deal': 1268, 'Widmark': 735, 'turns': 3026, 'unintentionally': 3068, 'comical': 1136, 'marbles': 2070, 'early': 1391, 'marred': 2071, 'constant': 1180, 'studio': 2820, 'indoor': 1873, 'exteriors': 1516, 'prompted': 2418, 'documentary': 1355, 'serious': 2650, 'start': 2787, 'steve': 2797, 'martin': 2073, 'middleaged': 2112, 'upper': 3092, 'class': 1106, 'uptight': 3094, 'add': 786, 'betty': 946, 'jean': 1921, 'mistakes': 2128, 'racial': 2452, 'jokes': 1928, 'offend': 2234, 'littered': 2016, 'overt': 2272, 'slurs': 2724, 'members': 2098, 'whites': 3189, 'depicted': 1294, 'morons': 2142, 'boobs': 975, 'card': 1032, 'aside': 870, 'lets': 1993, 'major': 2058, 'flaw': 1609, 'destroy': 1312, 'latifas': 1969, 'STEAMBOAT': 580, 'WILLIE': 717, 'amazingly': 828, 'Mickey': 472, 'Mouse': 483, 'PLANE': 522, 'CRAZY': 147, 'year': 3243, 'famous': 1544, 'filmmostly': 1585, 'groundbreaking': 1729, 'yet': 3246, 'hear': 1765, 'tons': 2977, 'filmsomething': 1588, 'granted': 1718, 'crowd': 1242, 'pleaser': 2350, '1928': 9, 'amazed': 826, 'timeless': 2961, 'Turkey': 693, 'Straw': 643, 'imaginative': 1845, 'cruel': 1244, 'Clever': 171, 'crowdpleaserthis': 1243, 'among': 831, 'Mickeys': 473, '80': 38, 'bipolarity': 953, 'thug': 2955, 'killer': 1943, 'Luvs': 449, 'diaper': 1322, 'commercial': 1143, 'terribly': 2917, 'receive': 2480, 'awards': 898, 'accolades': 767, 'deserving': 1304, 'original': 2256, 'Body': 129, 'Soul': 621, '1947': 10, 'Garfield': 294, 'Ann': 75, 'revere': 2539, 'Lilli': 432, 'Plmer': 539, 'William': 738, 'Conrad': 181, 'Leeand': 425, 'cinematographers': 1102, 'screenJames': 2606, 'Wong': 741, 'Howe': 354, 'qualities': 2443, 'badwellits': 914, 'shame': 2660, 'Thomerson': 669, 'James': 380, 'credit': 1233, '1986': 16, 'version': 3111, 'watchable': 3162, 'Lets': 428, 'problemsB\\x17the': 2405, 'professor': 2415, 'dumb': 1386, 'established': 1463, 'zombiestudents': 3258, 'humans': 1825, 'removing': 2515, 'necklace': 2184, 'containing': 1183, 'meteorite': 2110, 'Director': 213, 'Matthews': 465, 'wrotedirected': 3240, 'weak': 3169, '1995': 17, 'monster': 2138, 'Grim': 318, 'pace': 2279, 'lighting': 2005, 'bland': 958, 'aspects': 874, 'lack': 1956, 'notable': 2213, 'gore': 1709, 'convention': 1198, 'worked': 3216, 'past': 2301, 'AWFUL': 49, 'CG': 144, 'opening': 2251, 'sequence': 2647, 'Microsoft': 474, 'Slideshow': 615, 'Gods': 310, 'explosion': 1512, 'Gas': 295, 'tanks': 2892, 'Okay': 509, 'fair': 1533, 'critic': 1237, 'credits': 1234, 'duethe': 1384, 'creature': 1231, 'Gotta': 313, 'closeups': 1118, 'slimy': 2719, 'drooling': 1379, 'teeth': 2905, 'sum': 2850, 'Breeders': 134, 'cheaply': 1077, 'avoided': 896, 'Ebola': 230, 'virus': 3126, 'recommended': 2485, 'unbearable': 3040, 'charisma': 1069, 'comedic': 1131, 'timing': 2966, 'Aside': 85, 'debits': 1272, 'popcorn': 2370, 'hackneyed': 1737, 'borders': 980, 'Lewis': 429, 'Blacks': 125, 'considerable': 1174, 'incendiary': 1859, 'unrestrained': 3088, 'rating': 2463, 'allow': 814, 'sole': 2738, 'bright': 996, 'spot': 2774, 'recent': 2482, 'Superbad': 649, 'due': 1382, 'weight': 3173, 'interim': 1904, 'originality': 2257, 'freshness': 1645, 'offer': 2236, 'evidently': 1477, 'limited': 2011, 'reflected': 2492, 'belowpar': 943, 'borrowed': 985, 'balance': 916, 'Filmiing': 266, 'expansive': 1499, 'failed': 1531, 'convey': 1199, 'broad': 1002, 'sweep': 2875, 'landscapes': 1962, 'Generally': 298, 'finally': 1591, 'sign': 2689, 'improvement': 1855, 'expected': 1502, 'asleep': 872, 'Beware': 121, 'trashy': 3003, 'sequel': 2645, 'precisely': 2386, 'giving': 1696, '90s': 45, 'proudly': 2423, 'classical': 1108, 'WB': 716, 'cartoons': 1039, 'Tiny': 675, 'Toons': 682, 'kept': 1939, 'vibe': 3115, 'delivered': 1288, 'underrated': 3052, 'murky': 2165, 'product': 2412, 'related': 2498, 'Easily': 228, 'none': 2204, 'tender': 2911, 'getting': 1685, 'dark': 1263, 'sitcoms': 2707, 'oriented': 2255, 'teenagers': 2904, 'peculiarity': 2308, 'Every': 249, 'deserved': 1302, 'element': 1412, 'excessively': 1490, 'phony': 2322, 'contrived': 1195, 'painful': 2284, 'sit': 2706, 'WRITTEN': 718, 'fifteen': 1578, 'oh': 2239, 'um': 3038, 'Perabo': 532, 'comfortable': 1134, 'excuse': 1494, 'volcano': 3136, 'Los': 441, 'Angeles': 71, 'honest': 1803, 'unbelievable': 3042, 'nonsense': 2208, 'foolish': 1622, 'bother': 987, 'accents': 764, 'abysmal': 763, 'Theres': 666, 'hypocrisy': 1831, 'vomit': 3137, 'Dont': 218, 'rubbish': 2567, 'nonresearched': 2207, 'Pitch': 537, 'longer': 2029, 'surprised': 2865, 'Go': 308, 'Omit': 513, 'instant': 1887, 'catchy': 1046, 'miss': 2126, 'simmering': 2693, 'boiling': 969, 'warts': 3154, 'study': 2821, 'poets': 2358, 'bohemian': 968, 'wartime': 3153, 'span': 2759, 'bombardments': 971, 'London': 437, 'outward': 2266, 'tranquillity': 2996, 'Welsh': 733, 'coastal': 1122, 'retreat': 2536, 'borderlines': 979, 'friendship': 1647, 'lust': 2050, 'dedication': 1279, 'versus': 3112, 'practical': 2384, 'concerns': 1161, 'jealousy': 1920, 'rivalry': 2551, 'cowardice': 1219, 'egotism': 1406, 'heroism': 1781, 'selfsacrifice': 2635, 'mature': 2084, 'suggests': 2848, 'brings': 1001, 'focus': 1617, 'underlying': 3050, 'tensions': 2913, 'served': 2652, 'apart': 850, 'inappropriate': 1858, 'smiling': 2730, 'Keira': 404, 'Knightley': 409, 'prone': 2419, 'exquisite': 1514, 'inventive': 1909, 'elegant': 1411, 'closeup': 1117, 'angle': 836, 'pointillistic': 2361, 'home': 1801, 'behold': 938, 'continuously': 1190, 'Bertolucci': 117, 'relationships': 2502, 'engaging': 1440, 'masters': 2081, 'basic': 924, 'sidelined': 2688, 'inexplicable': 1878, 'crew': 1235, 'Regardless': 563, 'Avoid': 90, 'costs': 1210, 'Christmas': 168, 'Errol': 244, 'Flynn': 272, 'Custer': 195, 'alongside': 819, 'Olivia': 512, 'De': 203, 'Havilland': 329, 'fantastic': 1548, 'known': 1952, 'dads': 1257, 'grew': 1726, 'realised': 2471, 'Jim': 390, 'OConnor': 506, 'energetic': 1438, 'George': 299, 'dull': 1385, 'hosting': 1815, 'voiceovers': 3134, 'monotonous': 2137, 'guests': 1732, 'Lovely': 445, 'shenanigans': 2671, 'surrounding': 2869, 'spy': 2775, 'kidnapped': 1940, 'nasty': 2176, 'foreign': 1628, 'random': 2456, 'taxidermists': 2896, 'Stewart': 637, 'hero': 1778, 'rips': 2549, 'climax': 1114, 'embassy': 1419, 'function': 1657, 'brooding': 1004, 'menace': 2102, 'Hitchcocks': 345, 'lowbudget': 2047, 'Nevertheless': 496, 'stable': 2777, 'excellently': 1486, 'tops': 2980, 'typical': 3034, 'sci': 2600, 'fi': 1577, 'Excellently': 253, 'Scifis': 592, 'producers': 2411, 'Scot': 593, 'Vandiver': 710, 'nonetheless': 2205, 'campy': 1024, 'delight': 1284, 'mindbendingly': 2116, 'scares': 2592, 'medical': 2093, 'terminology': 2914, 'iffy': 1842, 'insulin': 1890, 'dependant': 1291, 'diabetic': 1318, 'revealing': 2538, 'complexity': 1152, 'task': 2894, 'challenges': 1059, 'facing': 1527, 'South': 622, 'Africa': 58, 'outside': 2265, 'attempted': 885, 'Truth': 692, 'Reconciliation': 562, 'process': 2407, 'magnificent': 2055, 'photographycinematography': 2325, 'seamlessly': 2617, 'woven': 3232, 'splendid': 2769, 'view': 3117, 'subtitles': 2835, 'aversion': 894, 'therapy': 2929, 'Shakespear': 603, 'Macbeth': 454, 'Jason': 383, 'Connery': 179, 'moved': 2150, 'tears': 2901, 'final': 1589, 'monolog': 2136, 'brief': 994, 'candle': 1025, 'outHe': 2261, 'sphere': 2767, 'moral': 2141, 'decay': 1274, 'forces': 1626, 'Helen': 334, 'Baxendale': 107, 'credible': 1232, 'lady': 1960, 'cheerfull': 1082, 'naughty': 2182, 'deadly': 1266, 'taste': 2895, 'evil': 1478, 'Shakespears': 604, 'lyrics': 2051, 'delightful': 1285, 'adaptation': 785, 'Dr': 219, 'Seuss': 602, 'brilliantly': 999, 'animated': 841, 'UPAs': 696, 'finest': 1596, 'Academy': 51, 'Award': 91, 'Special': 627, 'integral': 1893, 'helping': 1775, 'Baileys': 102, 'crisp': 1236, 'beautifully': 930, 'colored': 1127, 'design': 1305, 'costumes': 1211, 'Eiko': 235, 'Ishioka': 376, 'went': 3179, 'Coppolas': 186, 'Dracula': 220, 'allowing': 815, '1971': 13, 'format': 1635, 'miniseries': 2119, 'baaaaaad': 904, 'Unless': 704, 'youre': 3252, 'collect': 1125, 'extant': 1515, 'Austens': 89, 'skip': 2714, 'small': 2726, 'consolations': 1179, 'Annes': 77, 'sisters': 2705, 'Speaking': 626, 'unbearably': 3041, 'kitchy': 1948, 'dropped': 1380, 'ball': 918, 'Raw': 558, 'sublimely': 2831, 'overly': 2271, 'theatrical': 2925, 'plays': 2347, 'everyones': 1474, 'terror': 2919, 'lie': 1998, 'escalating': 1458, 'monstrous': 2139, 'consequences': 1172, 'players': 2345, 'mesmerising': 2107, 'Wilkinson': 736, 'broke': 1003, 'elses': 1415, 'judging': 1932, 'fumbling': 1655, 'hankies': 1751, 'hands': 1749, 'faces': 1525, 'males': 2065, 'females': 1574, 'alike': 813, 'Julian': 399, 'Fellowes': 264, 'triumphed': 3014, 'Hes': 340, 'national': 2177, 'treasure': 3005, 'GO': 290, 'SEE': 576, 'welldone': 3177, 'phrase': 2326, 'owed': 2274, 'Kris': 411, 'Kristoffersen': 412, 'difference': 1324, 'documentaries': 1354, 'marriage': 2072, 'errors': 1457, 'user': 3098, 'commented': 1141, 'cars': 1037, 'garage': 1670, 'Joes': 392, 'glassesthe': 1699, 'facial': 1526, 'hair': 1739, 'configuration': 1166, 'stars': 2786, 'inspiration': 1885, 'overcome': 2269, 'rejection': 2496, 'Punishment': 547, 'Park': 528, 'Shot': 609, 'Southern': 623, 'California': 149, 'desert': 1301, 'using': 3100, 'patent': 2302, 'Watkins': 725, 'Peter': 534, 'accessible': 765, 'Well': 732, 'thinking': 2936, 'miserable': 2123, 'hollow': 1800, 'laughable': 1972, 'Angela': 70, 'Bennett': 115, 'computer': 1157, 'expert': 1506, 'pretext': 2397, 'repeating': 2522, 'robotic': 2553, 'moves': 2152, 'results': 2533, 'DELETE': 197, 'begin': 935, 'ass': 875, 'ed': 1396, 'comments': 1142, 'wall': 3144, 'uncalled': 3043, 'fat': 1558, 'geek': 1674, 'bible': 948, 'thumper': 2956, 'badass': 912, 'heard': 1766, 'except': 1487, 'Cole': 175, 'mouth': 2148, 'Pulling': 546, 'plug': 2354, 'Lame': 418, 'describe': 1299, 'equivalent': 1455, 'Dickens': 211, 'Carol': 157, 'sensibility': 2641, 'success': 2841, 'depends': 1293, 'Sydney': 651, 'Greenstreet': 317, 'Yardley': 748, 'attractive': 888, 'eyepleasing': 1521, 'RPG': 555, 'disgrace': 1341, 'selfrespecting': 2634, 'RPGer': 556, 'cuts': 1255, 'audio': 890, 'wrong': 3239, 'youtube': 3254, 'Top': 683, 'Lassie': 422, 'sleep': 2716, 'FOREVER': 256, 'Thats': 665, 'painfully': 2285, 'dreary': 1374, 'timewaster': 2965, 'becomes': 933, 'forgettable': 1630, 'achievement': 771, 'sobaditsgood': 2733, 'sobaditsmemorable': 2734, 'shell': 2669, 'Seriously': 601, 'wasting': 3160, 'avoid': 895, 'barking': 922, 'transfers': 2998, 'relaxing': 2504, 'late': 1967, 'hence': 1777, 'title': 2968, 'handles': 1748, 'tough': 2988, 'issues': 1917, 'dignity': 1326, 'shocking': 2673, 'spoiler': 2772, 'happy': 1755, 'feel': 1567, 'touches': 2986, 'whenever': 3184, 'TVnever': 656, 'memorized': 2101, 'pair': 2288, 'fishnet': 1601, 'stockings': 2802, 'astonishingly': 878, 'ham': 1743, 'fisted': 1602, 'earth': 1392, 'Irons': 374, 'holds': 1798, 'Emily': 239, 'Watson': 726, 'unconditional': 3044, 'Wilkinsons': 737, 'prepared': 2393, 'ordeal': 2254, 'takes': 2885, 'hand': 1744, 'progresses': 2416, 'anguish': 839, 'Watsons': 727, 'quick': 2447, 'Despite': 209, 'pans': 2290, 'reviewers': 2543, 'Interview': 371, 'Vampire': 709, 'Lestat': 427, 'Stuart': 645, 'Townsend': 685, 'Cruises': 194, 'Aailiyah': 50, 'Akasha': 60, 'compelling': 1146, 'entrance': 1452, 'mini': 2118, 'dance': 1259, 'Rices': 566, 'sensitivities': 2642, 'treatments': 3007, 'details': 1314, 'dysfunctionhe': 1389, 'football': 1624, 'perplexing': 2318, 'skilled': 2713, 'Meredith': 470, 'charming': 1073, 'sentiment': 2643, 'rare': 2459, 'worthy': 3227, 'tale': 2887, 'trap': 3001, 'syrupy': 2880, 'indulgent': 1874, 'Nine': 500, 'goremeister': 1710, 'Lucio': 446, 'Fulci': 286, 'giallo': 1686, 'subgenre': 2827, 'Italian': 377, 'thrillers': 2951, '70s': 35, 'standout': 2782, 'unpleasant': 3081, 'Technically': 661, 'impressive': 1853, 'Riz': 569, 'Ortolani': 515, 'recurring': 2487, 'unaccompanied': 3039, 'vocal': 3132, 'sounds': 2755, 'distant': 1346, 'hill': 1790, 'wild': 3197, 'stuff': 2822, 'beginning': 936, 'Dustin': 223, 'Hoffmans': 346, 'stay': 2791, 'Personally': 533, 'compromise': 1156, 'self': 2630, 'involving': 1912, 'issue': 1916, 'tired': 2967, 'thick': 2932, 'fast': 1556, 'PS': 524, 'finds': 1594, 'blown': 964, 'effect': 1401, 'Jennifer': 386, 'Rubin': 573, 'Harris': 327, 'changes': 1063, 'nervous': 2191, 'starlet': 2784, 'strange': 2809, 'events': 1469, 'inside': 1881, 'emotions': 1424, 'situations': 2712, 'coach': 1121, 'Mark': 461, 'Snow': 618, 'ultracheap': 3037, 'result': 2532, 'None': 501, 'exciting': 1492, 'slightest': 2717, 'uniqueness': 3072, 'Foreigner': 274, '1973': 14, 'Stranger': 642, 'duet': 1383, 'astronaut': 879, 'doctor': 1353, 'exchange': 1491, 'considers': 1177, 'Cold': 174, 'War': 720, 'astronauts': 880, 'biggest': 951, 'crashed': 1223, 'USSR': 698, 'scary': 2593, 'Scream': 594, 'scare': 2589, 'extraordinary': 1518, 'courtroom': 1217, 'indictment': 1870, 'justice': 1936, 'system': 2881, 'highlights': 1787, 'fundamental': 1658, 'legal': 1986, 'discovering': 1340, 'guilt': 1733, 'innocence': 1879, 'court': 1216, 'paced': 2280, 'understated': 3055, 'routine': 2565, 'factbased': 1529, 'boost': 977, 'Predictable': 543, 'clear': 1109, 'range': 2457, 'ability': 759, 'pull': 2431, 'carries': 1035, 'Constantine': 183, 'intensity': 1898, 'understanding': 3054, 'motivations': 2145, 'inspiring': 1886, 'video': 3116, 'etcits': 1466, 'stinker': 2799, 'smells': 2728, 'directtovideo': 1333, 'release': 2505, 'Star': 632, 'Trek': 687, 'V': 707, 'Frontier': 285, 'includes': 1860, 'Shatner': 605, 'Nimoy': 499, 'washed': 3155, 'tacky': 2882, 'Spock': 629, 'rescue': 2528, 'Kirk': 408, 'jet': 1923, 'pack': 2282, 'falls': 1538, 'mountain': 2146, 'humor': 1827, 'dosent': 1363, 'basically': 925, 'involves': 1911, 'Vulcan': 714, 'stealing': 2793, 'Enterprise': 243, 'Uhura': 700, 'belly': 942, 'distract': 1349, 'male': 2063, 'guards': 1730, 'Editing': 233, 'phenomenal': 2321, 'opinion': 2253, 'subjects': 2829, 'Jay': 384, 'Adams': 56, 'unfortunate': 3066, 'subject': 2828, 'Old': 510, 'Neil': 493, 'Young': 754, 'evokes': 1480, 'grainy': 1717, 'enhanced': 1441, 'delights': 1286, 'surprises': 2866, 'Achille': 52, 'Philippa': 536, 'sing': 2698, 'Giovanni': 303, 'describes': 1300, 'appreciate': 857, 'layers': 1975, '18th': 8, 'century': 1055, 'Jutland': 401, 'instruments': 1889, 'touch': 2985, 'General': 297, 'Loewenhielms': 436, 'partaking': 2295, 'Cailles': 148, 'en': 1429, 'Sarcophage': 585, 'sample': 2578, 'savor': 2583, 'lasting': 1965, 'impression': 1852, 'generates': 1677, 'austere': 891, 'backdrop': 909, 'wanting': 3147, 'youd': 3248, 'notch': 2214, 'fleshed': 1612, 'Grimes': 319, 'Blake': 126, 'deliver': 1287, 'sharply': 2664, 'scripted': 2611, 'deadpan': 1267, 'tongue': 2976, 'cheek': 1080, 'Angus': 73, 'Scrimm': 595, 'gently': 1681, 'menacing': 2103, 'violinplaying': 3124, 'anatomist': 834, 'Doctor': 215, 'Conclusion': 178, 'entertained': 1448, 'struggle': 2818, 'Evil': 251, 'Dead': 204, 'Phantasm': 535, 'falling': 1537, '20': 20, '40': 29, '1949': 12, 'collective': 1126, 'heads': 1764, 'concerning': 1160, 'kudos': 1954, 'exceptional': 1488, 'lesserknown': 1991, 'superintelligent': 2856, 'easy': 1394, 'modest': 2130, 'Juano': 397, 'Hernandez': 339, 'supporting': 2859, 'murdering': 2164, 'Trumbull': 691, 'LUCY': 415, 'chanceit': 1061, 'open': 2249, '50': 31, 'reminded': 2513, 'Huston': 359, 'evinced': 1479, 'faithful': 1535, 'Joyces': 396, 'acclaimed': 766, 'novella': 2218, 'Feelings': 263, 'thoughtsGabriels': 2943, 'discomfort': 1339, 'danceall': 1260, 'intangibles': 1892, 'leap': 1979, 'within': 3201, 'viewers': 3118, 'grasp': 1720, 'wondered': 3207, 'shortlist': 2676, 'Lot': 442, 'emperor': 1425, 'spend': 2764, 'childhood': 1089, 'End': 240, 'Days': 202, 'bigbudget': 950, 'surely': 2863, 'coherent': 1124, 'Air': 59, 'Force': 273, 'obliged': 2226, 'write': 3234, 'creative': 1229, 'confusing': 1170, 'subplots': 2834, 'native': 2179, 'americans': 830, 'eating': 1395, 'beall': 927, 'endall': 1432, 'brainsucking': 991, 'Call': 150, 'nut': 2223, 'Telly': 663, 'Savalas': 586, 'Boyle': 133, '54': 32, 'sheer': 2667, 'tedium': 2902, 'melodrama': 2096, 'sinking': 2703, 'GOOD': 291, 'LORD': 413, 'THINKING': 654, 'Lots': 443, 'imagine': 1846, 'decisions': 1278, 'atrocious': 882, 'stinks': 2800, 'Trouble': 690, 'impossible': 1850, 'establish': 1462, 'Worse': 745, 'subplot': 2833, 'follows': 1621, 'band': 920, 'latterday': 1970, 'Mansonites': 457, 'reporter': 2525, 'whos': 3193, 'anniversary': 843, 'killings': 1945, 'spoil': 2770, 'indication': 1869, 'writer': 3235, 'meld': 2095, 'volatile': 3135, 'temperaments': 2909, 'seamless': 2616, 'union': 3070, 'creativity': 1230, 'powerhouse': 2383, 'timely': 2962, 'cultures': 1248, 'fascination': 1555, 'celebrity': 1051, 'distorted': 1348, 'interpretations': 1906, 'fame': 1540, 'forgotten': 1633, 'Kevin': 406, 'Spacey': 625, 'verbal': 3108, 'tsunami': 3022, 'Buddy': 138, 'Ackerman': 53, 'scripting': 2612, 'unmatched': 3075, 'ages': 804, 'younger': 3251, 'references': 2491, 'galley': 1666, 'pm': 2356, '8pm': 42, '815pm': 41, 'forwarded': 1638, 'Either': 236, 'sucks': 2844, 'horrendously': 1809, 'starts': 2789, 'buildup': 1010, 'Captain': 155, 'Howdy': 353, 'says': 2586, 'semi': 2637, 'truck': 3015, 'Linda': 433, 'Cardellini': 156, 'Shes': 607, 'poised': 2363, 'Dee': 206, 'Snider': 617, 'act': 772, 'villains': 3122, 'damn': 1258, 'pacing': 2281, 'FX': 257, 'suck': 2842, 'tries': 3010, 'sophisticated': 2749, 'thrillerhorror': 2950, 'miserably': 2124, 'unoriginal': 3080, 'cinematic': 1101, 'captured': 1029, 'celluloid': 1052, 'stayed': 2792, 'supernatural': 2858, 'zombie': 3257, 'Season': 598, 'Five': 269, 'consistent': 1178, 'thread': 2945, 'holding': 1797, 'Leni': 426, 'Parker': 529, 'Anita': 74, 'LaSelva': 417, 'Taelons': 657, 'quiet': 2449, 'idealogical': 1833, 'Horror': 351, 'mainly': 2057, 'centers': 1053, 'atmosphere': 881, 'puppets': 2436, 'Puppet': 548, 'Master': 463, 'flicks': 1614, 'explains': 1508, 'sinister': 2701, 'origins': 2258, 'previous': 2399, 'insomniacs': 1884, 'heartwarming': 1769, 'chasing': 1075, 'dreams': 1373, 'Nurse': 505, 'Betty': 120, 'unpredictability': 3082, 'LaBute': 416, 'uses': 3099, 'brutal': 1006, 'violence': 3123, 'seperate': 2644, 'Otherwise': 517, 'sorry': 2750, 'boringpointless': 984, 'secondary': 2621, 'incomprehensible': 1862, 'relation': 2499, 'primary': 2401, 'mystifying': 2171, 'Hated': 328, 'Speed': 628, 'shelves': 2670, 'doubt': 1364, 'moviemaking': 2157, 'warn': 3151, 'youDO': 3247, 'RENT': 553, 'MOVIE': 452, 'dumbest': 1387, 'HBO': 321, 'realize': 2474, 'Hopefully': 349, 'Cox': 190, 'feature': 1565, 'win': 3199, 'agree': 806, 'Jessica': 388, 'onedimensional': 2246, 'guys': 1736, 'elaborately': 1409, 'aesthetically': 799, 'sculpture': 2614, 'soap': 2732, 'operas': 2252, 'Funny': 288, 'hip': 1792, 'Prays': 542, 'Hype': 361, 'charismatic': 1071, 'Paolo': 527, 'Sorrentino': 620, 'loneliness': 2027, 'Tony': 681, 'built': 1011, 'unforgettable': 3065, 'Titta': 676, 'Di': 210, 'Girolamo': 305, 'vision': 3127, '910': 46, 'Emilio': 238, 'Estevezs': 246, 'debut': 1273, 'interplay': 1905, 'development': 1316, 'Estevez': 245, 'suggest': 2847, 'natural': 2180, 'eye': 1520, 'Martin': 462, 'Wall': 719, 'Street': 644, 'Charlie': 165, 'Kathy': 403, 'Bates': 106, 'desperation': 1309, 'escapism': 1459, 'variation': 3106, 'Play': 538, 'Fields': 265, 'Lord': 440, 'readers': 2467, 'Miyazakis': 479, 'worthwhile': 3226, 'condescends': 1164, 'hearts': 1768, 'greatespecially': 1723, 'arts': 869, 'daughters': 1264, 'paint': 2286, 'photograph': 2323, 'poignant': 2359, 'People': 531, 'movieit': 2155, 'realized': 2475, 'closed': 1116, 'brilliance': 997, 'depicts': 1295, 'alert': 812, 'decipher': 1277, 'meanings': 2091, 'Brilliance': 136, 'Matrix': 464, 'sequels': 2646, 'provoking': 2426, 'mindblowing': 2117, 'Think': 668, 'dream': 1372, 'Simply': 612, 'Rickman': 567, 'Stowe': 641, 'hilt': 1791, 'childrens': 1091, 'subversive': 2837, 'tract': 2992, 'gloriously': 1700, 'fairly': 1534, 'accurate': 768, 'raver': 2465, 'idyllic': 1840, 'downs': 1365, 'Groove': 320, 'antithesis': 846, 'Human': 358, 'Traffic': 686, 'Crowes': 193, 'wed': 3172, 'subpar': 2832, 'picked': 2328, 'speed': 2763, 'government': 1714, 'scientist': 2602, 'argued': 861, 'humanity': 1824, 'reasons': 2479, 'gadget': 1664, 'friends': 1646, 'Dwight': 224, 'Schultz': 591, 'sincere': 2697, 'onscreen': 2248, 'critical': 1238, 'Gorman': 311, 'Bechard': 108, 'homework': 1802, 'characterage': 1066, 'appropriate': 858, 'captures': 1030, 'essence': 1461, 'track': 2991, 'commands': 1138, 'contributing': 1193, 'seeingB\\x05': 2624, 'threshold': 2947, 'Hayao': 331, 'latest': 1968, 'eighth': 1407, 'Studio': 646, 'Ghibili': 302, 'Gake': 292, 'Ue': 699, 'Ponyo': 541, 'Cliff': 172, 'Sea': 596, 'animation': 842, 'dominated': 1359, 'DisneyPixars': 214, 'CGI': 145, 'refreshing': 2493, 'comforting': 1135, 'Miyazaki': 478, 'relying': 2508, 'traditional': 2993, 'handdrawn': 1745, 'enchanting': 1430, 'Enough': 242, 'remarkable': 2511, 'crayonpencil': 1224, 'drawings': 1371, 'colorful': 1128, 'fanciful': 1546, 'drift': 1376, 'wants': 3148, 'surf': 2864, 'wave': 3165, '1998': 18, 'Deep': 207, 'Impact': 367, 'Armageddon': 81, 'everywhere': 1476, 'choked': 1097, 'worthless': 3225, 'youve': 3255, 'vessel': 3113, 'taken': 2884, 'mighty': 2114, 'frost': 1650, 'added': 787, 'bonuses': 974, 'Instead': 370, 'fest': 1576, 'spoiled': 2771, 'brat': 992, 'babysitting': 907, 'Sundays': 648, 'March': 458, '2005': 21, 'Judith': 398, 'Light': 431, 'favorite': 1562, 'sad': 2574, 'cutie': 1253, 'Recommend': 561, 'confidence': 1165, 'wellbalanced': 3176, 'riot': 2548, 'Hugo': 357, 'Weaving': 730, 'sexobsessed': 2658, 'gay': 1673, 'estate': 1464, 'salesman': 2577, 'clients': 1113, 'houses': 1820, 'trysts': 3021, 'flaming': 1606, 'Darren': 200, 'Hollander': 347, 'Anyway': 80, 'flowed': 1615, 'smoothly': 2731, 'malebonding': 2064, 'hoot': 1805, 'cat': 1045, 'n': 2172, 'mouse': 2147, 'Fans': 259, 'genre': 1680, 'heaven': 1770, 'Lange': 421, 'faster': 1557, 'Jessice': 389, 'clothes': 1119, 'virtue': 3125, 'regrettable': 2495, 'Exceptionally': 254}\n"
          ],
          "name": "stdout"
        }
      ]
    },
    {
      "cell_type": "code",
      "metadata": {
        "id": "V1K-YudIWzHA",
        "colab_type": "code",
        "colab": {}
      },
      "source": [
        "def findWord(index):\n",
        "    for word, id in bagOfWords.vocabulary_.items():\n",
        "        if id == index:\n",
        "            return word"
      ],
      "execution_count": 0,
      "outputs": []
    },
    {
      "cell_type": "code",
      "metadata": {
        "id": "9rAQK4RLWzHH",
        "colab_type": "code",
        "colab": {}
      },
      "source": [
        "def findindex(kword):\n",
        "    for word, id in bagOfWords.vocabulary_.items():\n",
        "        if kword == word:\n",
        "            return id"
      ],
      "execution_count": 0,
      "outputs": []
    },
    {
      "cell_type": "code",
      "metadata": {
        "id": "mjFx45eOWzHO",
        "colab_type": "code",
        "colab": {
          "base_uri": "https://localhost:8080/",
          "height": 34
        },
        "outputId": "0d009769-d481-49c9-8159-baffd564b7e6"
      },
      "source": [
        "findWord(100)"
      ],
      "execution_count": 46,
      "outputs": [
        {
          "output_type": "execute_result",
          "data": {
            "text/plain": [
              "'Babie'"
            ]
          },
          "metadata": {
            "tags": []
          },
          "execution_count": 46
        }
      ]
    },
    {
      "cell_type": "code",
      "metadata": {
        "id": "bn6Wudv9WzHU",
        "colab_type": "code",
        "colab": {
          "base_uri": "https://localhost:8080/",
          "height": 34
        },
        "outputId": "390e1795-b78b-462a-ff6d-161f9d881232"
      },
      "source": [
        "findWord(102)"
      ],
      "execution_count": 47,
      "outputs": [
        {
          "output_type": "execute_result",
          "data": {
            "text/plain": [
              "'Baileys'"
            ]
          },
          "metadata": {
            "tags": []
          },
          "execution_count": 47
        }
      ]
    },
    {
      "cell_type": "code",
      "metadata": {
        "scrolled": false,
        "id": "QtOJzGg4WzHc",
        "colab_type": "code",
        "colab": {
          "base_uri": "https://localhost:8080/",
          "height": 34
        },
        "outputId": "06bf39d8-e210-4b95-ded5-23d03746db3d"
      },
      "source": [
        "comment_bagOfWords.shape"
      ],
      "execution_count": 48,
      "outputs": [
        {
          "output_type": "execute_result",
          "data": {
            "text/plain": [
              "(748, 3259)"
            ]
          },
          "metadata": {
            "tags": []
          },
          "execution_count": 48
        }
      ]
    },
    {
      "cell_type": "code",
      "metadata": {
        "scrolled": true,
        "id": "48pDSrcQWzHm",
        "colab_type": "code",
        "colab": {
          "base_uri": "https://localhost:8080/",
          "height": 34
        },
        "outputId": "398465bb-befa-424c-e248-a3e99c162fb4"
      },
      "source": [
        "sentiment.columns"
      ],
      "execution_count": 49,
      "outputs": [
        {
          "output_type": "execute_result",
          "data": {
            "text/plain": [
              "Index(['comment', 'label', 'length'], dtype='object')"
            ]
          },
          "metadata": {
            "tags": []
          },
          "execution_count": 49
        }
      ]
    },
    {
      "cell_type": "code",
      "metadata": {
        "id": "bYlQ594nWzHt",
        "colab_type": "code",
        "colab": {
          "base_uri": "https://localhost:8080/",
          "height": 34
        },
        "outputId": "7c344d44-1390-47da-a17d-e34a87177745"
      },
      "source": [
        "sentiment['comment'][0]"
      ],
      "execution_count": 50,
      "outputs": [
        {
          "output_type": "execute_result",
          "data": {
            "text/plain": [
              "'A very, very, very slow-moving, aimless movie about a distressed, drifting young man.  '"
            ]
          },
          "metadata": {
            "tags": []
          },
          "execution_count": 50
        }
      ]
    },
    {
      "cell_type": "code",
      "metadata": {
        "scrolled": true,
        "id": "y_ixPeuPWzH2",
        "colab_type": "code",
        "colab": {
          "base_uri": "https://localhost:8080/",
          "height": 34
        },
        "outputId": "b69747ec-d15e-454d-f48b-213b955cd584"
      },
      "source": [
        "sentiment['comment'].apply(cleanup_text)[0]"
      ],
      "execution_count": 51,
      "outputs": [
        {
          "output_type": "execute_result",
          "data": {
            "text/plain": [
              "['slowmoving', 'aimless', 'movie', 'distressed', 'drifting', 'young', 'man']"
            ]
          },
          "metadata": {
            "tags": []
          },
          "execution_count": 51
        }
      ]
    },
    {
      "cell_type": "code",
      "metadata": {
        "scrolled": false,
        "id": "XGis85XJWzH-",
        "colab_type": "code",
        "colab": {
          "base_uri": "https://localhost:8080/",
          "height": 141
        },
        "outputId": "e067a167-51b2-44c5-f351-cc64e36bd1a6"
      },
      "source": [
        "print(comment_bagOfWords[0])"
      ],
      "execution_count": 52,
      "outputs": [
        {
          "output_type": "stream",
          "text": [
            "  (0, 808)\t1\n",
            "  (0, 1350)\t1\n",
            "  (0, 1377)\t1\n",
            "  (0, 2066)\t1\n",
            "  (0, 2153)\t1\n",
            "  (0, 2723)\t1\n",
            "  (0, 3250)\t1\n"
          ],
          "name": "stdout"
        }
      ]
    },
    {
      "cell_type": "code",
      "metadata": {
        "id": "k32xzhSMWzIH",
        "colab_type": "code",
        "colab": {
          "base_uri": "https://localhost:8080/",
          "height": 34
        },
        "outputId": "94015dea-a0ad-4eb3-ed22-464642d0f966"
      },
      "source": [
        "findWord(808)"
      ],
      "execution_count": 53,
      "outputs": [
        {
          "output_type": "execute_result",
          "data": {
            "text/plain": [
              "'aimless'"
            ]
          },
          "metadata": {
            "tags": []
          },
          "execution_count": 53
        }
      ]
    },
    {
      "cell_type": "code",
      "metadata": {
        "id": "H_YNk4QiWzIP",
        "colab_type": "code",
        "colab": {
          "base_uri": "https://localhost:8080/",
          "height": 34
        },
        "outputId": "b225ce1d-8e29-4ef0-d262-b5b830d34b23"
      },
      "source": [
        "findWord(809)"
      ],
      "execution_count": 54,
      "outputs": [
        {
          "output_type": "execute_result",
          "data": {
            "text/plain": [
              "'air'"
            ]
          },
          "metadata": {
            "tags": []
          },
          "execution_count": 54
        }
      ]
    },
    {
      "cell_type": "code",
      "metadata": {
        "scrolled": true,
        "id": "ZWScL0C1WzIX",
        "colab_type": "code",
        "colab": {
          "base_uri": "https://localhost:8080/",
          "height": 34
        },
        "outputId": "d86df8ab-41b5-4178-ad9d-5bc9ff284f71"
      },
      "source": [
        "findWord(1350)"
      ],
      "execution_count": 55,
      "outputs": [
        {
          "output_type": "execute_result",
          "data": {
            "text/plain": [
              "'distressed'"
            ]
          },
          "metadata": {
            "tags": []
          },
          "execution_count": 55
        }
      ]
    },
    {
      "cell_type": "code",
      "metadata": {
        "id": "xl7MbF24WzId",
        "colab_type": "code",
        "colab": {
          "base_uri": "https://localhost:8080/",
          "height": 34
        },
        "outputId": "149acb1a-94cc-424b-ad96-afabb047ee29"
      },
      "source": [
        "findWord(2153)"
      ],
      "execution_count": 56,
      "outputs": [
        {
          "output_type": "execute_result",
          "data": {
            "text/plain": [
              "'movie'"
            ]
          },
          "metadata": {
            "tags": []
          },
          "execution_count": 56
        }
      ]
    },
    {
      "cell_type": "code",
      "metadata": {
        "id": "L2lM4FBUWzIj",
        "colab_type": "code",
        "colab": {
          "base_uri": "https://localhost:8080/",
          "height": 34
        },
        "outputId": "0b4c2aec-2073-4c31-ea4a-d4cb11ebcbb8"
      },
      "source": [
        "comment_bagOfWords.shape"
      ],
      "execution_count": 57,
      "outputs": [
        {
          "output_type": "execute_result",
          "data": {
            "text/plain": [
              "(748, 3259)"
            ]
          },
          "metadata": {
            "tags": []
          },
          "execution_count": 57
        }
      ]
    },
    {
      "cell_type": "code",
      "metadata": {
        "scrolled": true,
        "id": "wqCi5M4AWzIn",
        "colab_type": "code",
        "colab": {
          "base_uri": "https://localhost:8080/",
          "height": 34
        },
        "outputId": "d65c55df-f60c-499c-e157-bc7b63b2174f"
      },
      "source": [
        "findWord(808)"
      ],
      "execution_count": 58,
      "outputs": [
        {
          "output_type": "execute_result",
          "data": {
            "text/plain": [
              "'aimless'"
            ]
          },
          "metadata": {
            "tags": []
          },
          "execution_count": 58
        }
      ]
    },
    {
      "cell_type": "code",
      "metadata": {
        "id": "vzwGx6LzWzIx",
        "colab_type": "code",
        "colab": {
          "base_uri": "https://localhost:8080/",
          "height": 34
        },
        "outputId": "09b327ad-8d94-4b28-d9d5-3db7104ad835"
      },
      "source": [
        "findWord(1350)"
      ],
      "execution_count": 59,
      "outputs": [
        {
          "output_type": "execute_result",
          "data": {
            "text/plain": [
              "'distressed'"
            ]
          },
          "metadata": {
            "tags": []
          },
          "execution_count": 59
        }
      ]
    },
    {
      "cell_type": "code",
      "metadata": {
        "id": "vObvHHFcWzI8",
        "colab_type": "code",
        "colab": {
          "base_uri": "https://localhost:8080/",
          "height": 34
        },
        "outputId": "a3a248b6-abd9-43b3-b33f-6dde6eeaca21"
      },
      "source": [
        "type(comment_bagOfWords)"
      ],
      "execution_count": 60,
      "outputs": [
        {
          "output_type": "execute_result",
          "data": {
            "text/plain": [
              "scipy.sparse.csr.csr_matrix"
            ]
          },
          "metadata": {
            "tags": []
          },
          "execution_count": 60
        }
      ]
    },
    {
      "cell_type": "code",
      "metadata": {
        "id": "9-URy14SWzJG",
        "colab_type": "code",
        "colab": {
          "base_uri": "https://localhost:8080/",
          "height": 34
        },
        "outputId": "f022ab37-f6ae-4357-fa19-0375079aaca5"
      },
      "source": [
        "comment_bagOfWords.toarray()[0]"
      ],
      "execution_count": 61,
      "outputs": [
        {
          "output_type": "execute_result",
          "data": {
            "text/plain": [
              "array([0, 0, 0, ..., 0, 0, 0])"
            ]
          },
          "metadata": {
            "tags": []
          },
          "execution_count": 61
        }
      ]
    },
    {
      "cell_type": "code",
      "metadata": {
        "scrolled": true,
        "id": "UWDuC63SWzJM",
        "colab_type": "code",
        "colab": {
          "base_uri": "https://localhost:8080/",
          "height": 141
        },
        "outputId": "c72e47b6-4085-45ad-b333-896625594c51"
      },
      "source": [
        "print(comment_bagOfWords[0])"
      ],
      "execution_count": 62,
      "outputs": [
        {
          "output_type": "stream",
          "text": [
            "  (0, 808)\t1\n",
            "  (0, 1350)\t1\n",
            "  (0, 1377)\t1\n",
            "  (0, 2066)\t1\n",
            "  (0, 2153)\t1\n",
            "  (0, 2723)\t1\n",
            "  (0, 3250)\t1\n"
          ],
          "name": "stdout"
        }
      ]
    },
    {
      "cell_type": "code",
      "metadata": {
        "id": "3UX3osYBWzJV",
        "colab_type": "code",
        "colab": {
          "base_uri": "https://localhost:8080/",
          "height": 34
        },
        "outputId": "a92256c7-03bf-44e0-8c62-5e02194adcf3"
      },
      "source": [
        "len(bagOfWords.vocabulary_)"
      ],
      "execution_count": 63,
      "outputs": [
        {
          "output_type": "execute_result",
          "data": {
            "text/plain": [
              "3259"
            ]
          },
          "metadata": {
            "tags": []
          },
          "execution_count": 63
        }
      ]
    },
    {
      "cell_type": "code",
      "metadata": {
        "id": "wyWRwBDeWzJb",
        "colab_type": "code",
        "colab": {}
      },
      "source": [
        "#Apply tfidf transformer and fit the bag of words into it\n",
        "from sklearn.feature_extraction.text import TfidfTransformer\n",
        "tfidf_transformer = TfidfTransformer().fit(comment_bagOfWords)"
      ],
      "execution_count": 0,
      "outputs": []
    },
    {
      "cell_type": "code",
      "metadata": {
        "scrolled": false,
        "id": "EWhX_ao-WzJm",
        "colab_type": "code",
        "colab": {
          "base_uri": "https://localhost:8080/",
          "height": 34
        },
        "outputId": "28e3fe0c-e366-45b3-8379-69c0643a765f"
      },
      "source": [
        "comment_tfidf = tfidf_transformer.transform(comment_bagOfWords)\n",
        "print(comment_tfidf.shape)"
      ],
      "execution_count": 65,
      "outputs": [
        {
          "output_type": "stream",
          "text": [
            "(748, 3259)\n"
          ],
          "name": "stdout"
        }
      ]
    },
    {
      "cell_type": "code",
      "metadata": {
        "id": "7NMZqph5WzJr",
        "colab_type": "code",
        "colab": {}
      },
      "source": [
        "# No of documents X no of unique words"
      ],
      "execution_count": 0,
      "outputs": []
    },
    {
      "cell_type": "code",
      "metadata": {
        "scrolled": false,
        "id": "PHXHI1IgWzJw",
        "colab_type": "code",
        "colab": {
          "base_uri": "https://localhost:8080/",
          "height": 34
        },
        "outputId": "cd870c68-95a1-4149-e8f2-f336aa18ba92"
      },
      "source": [
        "type(comment_tfidf)"
      ],
      "execution_count": 67,
      "outputs": [
        {
          "output_type": "execute_result",
          "data": {
            "text/plain": [
              "scipy.sparse.csr.csr_matrix"
            ]
          },
          "metadata": {
            "tags": []
          },
          "execution_count": 67
        }
      ]
    },
    {
      "cell_type": "code",
      "metadata": {
        "scrolled": true,
        "id": "4wXgkpI7WzJ3",
        "colab_type": "code",
        "colab": {
          "base_uri": "https://localhost:8080/",
          "height": 141
        },
        "outputId": "2b56a321-4fa9-4ef6-e7a3-4ad03e207f12"
      },
      "source": [
        "print(comment_tfidf.getrow(0))"
      ],
      "execution_count": 68,
      "outputs": [
        {
          "output_type": "stream",
          "text": [
            "  (0, 3250)\t0.3816637284563236\n",
            "  (0, 2723)\t0.4241108183752289\n",
            "  (0, 2153)\t0.16990858097983952\n",
            "  (0, 2066)\t0.3255517277463126\n",
            "  (0, 1377)\t0.4241108183752289\n",
            "  (0, 1350)\t0.4241108183752289\n",
            "  (0, 808)\t0.4241108183752289\n"
          ],
          "name": "stdout"
        }
      ]
    },
    {
      "cell_type": "code",
      "metadata": {
        "id": "il_qqWzPWzJ9",
        "colab_type": "code",
        "colab": {
          "base_uri": "https://localhost:8080/",
          "height": 34
        },
        "outputId": "b8ae58db-0048-4a72-f188-6792c87a4bd7"
      },
      "source": [
        "findWord(3250)"
      ],
      "execution_count": 69,
      "outputs": [
        {
          "output_type": "execute_result",
          "data": {
            "text/plain": [
              "'young'"
            ]
          },
          "metadata": {
            "tags": []
          },
          "execution_count": 69
        }
      ]
    },
    {
      "cell_type": "code",
      "metadata": {
        "id": "7CXPOHj-WzKD",
        "colab_type": "code",
        "colab": {
          "base_uri": "https://localhost:8080/",
          "height": 34
        },
        "outputId": "1d4abe1c-5785-486b-9423-1df5e2b305a8"
      },
      "source": [
        "findWord(2723)"
      ],
      "execution_count": 70,
      "outputs": [
        {
          "output_type": "execute_result",
          "data": {
            "text/plain": [
              "'slowmoving'"
            ]
          },
          "metadata": {
            "tags": []
          },
          "execution_count": 70
        }
      ]
    },
    {
      "cell_type": "code",
      "metadata": {
        "id": "mvgq6YwuWzKH",
        "colab_type": "code",
        "colab": {}
      },
      "source": [
        "from sklearn.naive_bayes import MultinomialNB\n",
        "sentiment_model = MultinomialNB().fit(comment_tfidf, sentiment['label'])"
      ],
      "execution_count": 0,
      "outputs": []
    },
    {
      "cell_type": "code",
      "metadata": {
        "id": "NmyChLbwWzKL",
        "colab_type": "code",
        "colab": {}
      },
      "source": [
        "from sklearn.linear_model import LogisticRegression"
      ],
      "execution_count": 0,
      "outputs": []
    },
    {
      "cell_type": "code",
      "metadata": {
        "scrolled": true,
        "id": "Im_Wx59PWzKQ",
        "colab_type": "code",
        "colab": {
          "base_uri": "https://localhost:8080/",
          "height": 105
        },
        "outputId": "914d9cf0-c798-4863-f25b-8f63c11689fb"
      },
      "source": [
        "sentiment_model_lr = LogisticRegression()\n",
        "sentiment_model_lr.fit(comment_tfidf, sentiment['label'])"
      ],
      "execution_count": 73,
      "outputs": [
        {
          "output_type": "execute_result",
          "data": {
            "text/plain": [
              "LogisticRegression(C=1.0, class_weight=None, dual=False, fit_intercept=True,\n",
              "                   intercept_scaling=1, l1_ratio=None, max_iter=100,\n",
              "                   multi_class='auto', n_jobs=None, penalty='l2',\n",
              "                   random_state=None, solver='lbfgs', tol=0.0001, verbose=0,\n",
              "                   warm_start=False)"
            ]
          },
          "metadata": {
            "tags": []
          },
          "execution_count": 73
        }
      ]
    },
    {
      "cell_type": "code",
      "metadata": {
        "scrolled": true,
        "id": "MymeYInbWzKU",
        "colab_type": "code",
        "colab": {
          "base_uri": "https://localhost:8080/",
          "height": 603
        },
        "outputId": "d081056c-6efa-4ff3-dfed-86641aba147a"
      },
      "source": [
        "#check model\n",
        "comment = sentiment['comment'][490:500]\n",
        "print(comment)\n",
        "bag_of_words_for_comment = bagOfWords.transform(comment)\n",
        "tfidf_inst = tfidf_transformer.transform(bag_of_words_for_comment)\n",
        "print('Predicted class: ', sentiment_model_lr.predict(tfidf_inst))\n",
        "print('Expected class:  ', sentiment.label[490:500])\n",
        "print('Predicted class: ', sentiment_model_lr.predict_proba(tfidf_inst) )\n"
      ],
      "execution_count": 74,
      "outputs": [
        {
          "output_type": "stream",
          "text": [
            "490    I can't see how this movie can be an inspirati...\n",
            "491    It's so bad it's actually worth seeing just fo...\n",
            "492    Punishment Park is a brilliant piece of cinema.  \n",
            "493    Shot in the Southern California desert using h...\n",
            "494    This is one of Peter Watkins most accessible f...\n",
            "495                   I advise you to look out for it.  \n",
            "496                                You wont regret it!  \n",
            "497                              Highly recommended A+  \n",
            "498    Well... Just if you keep thinking how bad it i...\n",
            "499    It's a mediocre, miserable, hollow, laughable ...\n",
            "Name: comment, dtype: object\n",
            "Predicted class:  [0 0 1 1 1 1 1 1 0 0]\n",
            "Expected class:   490    0\n",
            "491    0\n",
            "492    1\n",
            "493    1\n",
            "494    1\n",
            "495    1\n",
            "496    1\n",
            "497    1\n",
            "498    0\n",
            "499    0\n",
            "Name: label, dtype: int64\n",
            "Predicted class:  [[0.57986059 0.42013941]\n",
            " [0.61483787 0.38516213]\n",
            " [0.35334257 0.64665743]\n",
            " [0.35472252 0.64527748]\n",
            " [0.35073447 0.64926553]\n",
            " [0.39509542 0.60490458]\n",
            " [0.36217344 0.63782656]\n",
            " [0.47953442 0.52046558]\n",
            " [0.73737817 0.26262183]\n",
            " [0.69497067 0.30502933]]\n"
          ],
          "name": "stdout"
        }
      ]
    },
    {
      "cell_type": "code",
      "metadata": {
        "id": "73A6q8GLWzKY",
        "colab_type": "code",
        "colab": {
          "base_uri": "https://localhost:8080/",
          "height": 34
        },
        "outputId": "ebb03cf8-f768-4020-e70e-097437ee433a"
      },
      "source": [
        "tfidf_inst.shape"
      ],
      "execution_count": 75,
      "outputs": [
        {
          "output_type": "execute_result",
          "data": {
            "text/plain": [
              "(10, 3259)"
            ]
          },
          "metadata": {
            "tags": []
          },
          "execution_count": 75
        }
      ]
    },
    {
      "cell_type": "code",
      "metadata": {
        "id": "WPuS4BwKWzKc",
        "colab_type": "code",
        "colab": {
          "base_uri": "https://localhost:8080/",
          "height": 34
        },
        "outputId": "96c5081d-1264-46d2-ff83-d112c21bd2b4"
      },
      "source": [
        "sentiment_model_lr.predict(tfidf_inst)"
      ],
      "execution_count": 76,
      "outputs": [
        {
          "output_type": "execute_result",
          "data": {
            "text/plain": [
              "array([0, 0, 1, 1, 1, 1, 1, 1, 0, 0])"
            ]
          },
          "metadata": {
            "tags": []
          },
          "execution_count": 76
        }
      ]
    },
    {
      "cell_type": "code",
      "metadata": {
        "id": "GiVYXv0NWzKi",
        "colab_type": "code",
        "colab": {
          "base_uri": "https://localhost:8080/",
          "height": 230
        },
        "outputId": "a75bb57d-5c98-42f5-e7bf-a714c32edf9d"
      },
      "source": [
        "print('Predicted class: ', sentiment_model_lr.predict(tfidf_inst))\n",
        "print('Predicted class: ', sentiment_model_lr.predict_proba(tfidf_inst) )\n",
        "print('Expected class:  ', sentiment.label[500])"
      ],
      "execution_count": 77,
      "outputs": [
        {
          "output_type": "stream",
          "text": [
            "Predicted class:  [0 0 1 1 1 1 1 1 0 0]\n",
            "Predicted class:  [[0.57986059 0.42013941]\n",
            " [0.61483787 0.38516213]\n",
            " [0.35334257 0.64665743]\n",
            " [0.35472252 0.64527748]\n",
            " [0.35073447 0.64926553]\n",
            " [0.39509542 0.60490458]\n",
            " [0.36217344 0.63782656]\n",
            " [0.47953442 0.52046558]\n",
            " [0.73737817 0.26262183]\n",
            " [0.69497067 0.30502933]]\n",
            "Expected class:   0\n"
          ],
          "name": "stdout"
        }
      ]
    },
    {
      "cell_type": "code",
      "metadata": {
        "id": "8-CwSwErWzKr",
        "colab_type": "code",
        "colab": {}
      },
      "source": [
        "# New comments evaluation"
      ],
      "execution_count": 0,
      "outputs": []
    },
    {
      "cell_type": "code",
      "metadata": {
        "id": "iHOe59WvWzKv",
        "colab_type": "code",
        "colab": {
          "base_uri": "https://localhost:8080/",
          "height": 70
        },
        "outputId": "1b042a19-f52e-4e85-c804-aadde3f9170e"
      },
      "source": [
        "comment = \"the movie is truely wonderful and well directed\"\n",
        "print(comment)\n",
        "bag_of_words_for_comment = bagOfWords.transform([comment])\n",
        "tfidf_inst = tfidf_transformer.transform(bag_of_words_for_comment)\n",
        "print('Predicted class: ', sentiment_model.predict(tfidf_inst)[0])\n",
        "print('Expected class:  ', 1)"
      ],
      "execution_count": 79,
      "outputs": [
        {
          "output_type": "stream",
          "text": [
            "the movie is truely wonderful and well directed\n",
            "Predicted class:  1\n",
            "Expected class:   1\n"
          ],
          "name": "stdout"
        }
      ]
    },
    {
      "cell_type": "code",
      "metadata": {
        "id": "x8JaJDNLWzK1",
        "colab_type": "code",
        "colab": {}
      },
      "source": [
        "#check accuracy score\n",
        "from sklearn.metrics import accuracy_score"
      ],
      "execution_count": 0,
      "outputs": []
    },
    {
      "cell_type": "code",
      "metadata": {
        "scrolled": false,
        "id": "oU5EiIjBWzK6",
        "colab_type": "code",
        "colab": {
          "base_uri": "https://localhost:8080/",
          "height": 34
        },
        "outputId": "6f7470d0-7ec2-4b85-e8fc-4844185c7a62"
      },
      "source": [
        "sentiment.label.shape"
      ],
      "execution_count": 81,
      "outputs": [
        {
          "output_type": "execute_result",
          "data": {
            "text/plain": [
              "(748,)"
            ]
          },
          "metadata": {
            "tags": []
          },
          "execution_count": 81
        }
      ]
    },
    {
      "cell_type": "code",
      "metadata": {
        "id": "p9aQZXa2WzK-",
        "colab_type": "code",
        "colab": {
          "base_uri": "https://localhost:8080/",
          "height": 34
        },
        "outputId": "da6fb8f4-4aa6-45c9-e172-21a580c4b272"
      },
      "source": [
        "sentiment_model.predict(tfidf_inst).shape"
      ],
      "execution_count": 82,
      "outputs": [
        {
          "output_type": "execute_result",
          "data": {
            "text/plain": [
              "(1,)"
            ]
          },
          "metadata": {
            "tags": []
          },
          "execution_count": 82
        }
      ]
    },
    {
      "cell_type": "code",
      "metadata": {
        "scrolled": true,
        "id": "e1kdIolCWzLD",
        "colab_type": "code",
        "colab": {
          "base_uri": "https://localhost:8080/",
          "height": 34
        },
        "outputId": "7b8ed4a5-21d8-44ca-ba7f-fc0a4497e182"
      },
      "source": [
        "print( \"Accuracy score of the model MNB is : \", accuracy_score(sentiment.label,\n",
        "                                                           sentiment_model.predict(comment_tfidf)))"
      ],
      "execution_count": 83,
      "outputs": [
        {
          "output_type": "stream",
          "text": [
            "Accuracy score of the model MNB is :  0.9799465240641712\n"
          ],
          "name": "stdout"
        }
      ]
    },
    {
      "cell_type": "code",
      "metadata": {
        "id": "6TT85o5SWzLI",
        "colab_type": "code",
        "colab": {
          "base_uri": "https://localhost:8080/",
          "height": 34
        },
        "outputId": "209c3324-a318-4426-d1fa-f774ae4ad719"
      },
      "source": [
        "print( \"Accuracy score of the model LR is : \", accuracy_score(sentiment.label,\n",
        "                                                           sentiment_model_lr.predict(comment_tfidf)))"
      ],
      "execution_count": 84,
      "outputs": [
        {
          "output_type": "stream",
          "text": [
            "Accuracy score of the model LR is :  0.9772727272727273\n"
          ],
          "name": "stdout"
        }
      ]
    },
    {
      "cell_type": "code",
      "metadata": {
        "id": "qGoGMQ1eWzLQ",
        "colab_type": "code",
        "colab": {}
      },
      "source": [
        "# Split the data between training and testing , and provide the test accuracy\n",
        "# precision, recall and f1 score\n",
        "# Explain the drop in accuracy\n",
        "# How can we improve this\n",
        "#check the model accuracy on new set of review comments and post\n",
        "# required to be done by everybody"
      ],
      "execution_count": 0,
      "outputs": []
    },
    {
      "cell_type": "code",
      "metadata": {
        "id": "zz83cMzHWzLU",
        "colab_type": "code",
        "colab": {}
      },
      "source": [
        "# Write your analysis of the accuracy/metrics observed"
      ],
      "execution_count": 0,
      "outputs": []
    },
    {
      "cell_type": "code",
      "metadata": {
        "id": "Qw9CjFsecGPR",
        "colab_type": "code",
        "colab": {}
      },
      "source": [
        ""
      ],
      "execution_count": 0,
      "outputs": []
    }
  ]
}